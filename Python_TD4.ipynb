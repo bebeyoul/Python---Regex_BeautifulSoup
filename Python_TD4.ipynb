{
 "cells": [
  {
   "cell_type": "markdown",
   "metadata": {},
   "source": [
    "# TD4 Python"
   ]
  },
  {
   "cell_type": "markdown",
   "metadata": {},
   "source": [
    "# Exercise 1 [Regex]"
   ]
  },
  {
   "cell_type": "markdown",
   "metadata": {},
   "source": [
    "## 1. Import the re module :"
   ]
  },
  {
   "cell_type": "code",
   "execution_count": 1,
   "metadata": {},
   "outputs": [],
   "source": [
    "import re"
   ]
  },
  {
   "cell_type": "markdown",
   "metadata": {},
   "source": [
    "## 2. Write a regexp to extract the score, Cristiano’s age, number of goals and the number of selections from the following text:"
   ]
  },
  {
   "cell_type": "code",
   "execution_count": 2,
   "metadata": {},
   "outputs": [
    {
     "name": "stdout",
     "output_type": "stream",
     "text": [
      "Le score est de  ['3-0']  points\n",
      "Cristiano a  ['36 ans']\n",
      "Il y a eu  ['112 buts']\n",
      "Il y a eu  ['181 matchs']\n"
     ]
    }
   ],
   "source": [
    "texte =\"Buteur face au Qatar (3-0), samedi en amical, Cristiano Ronaldo (36 ans) a fait tomber un nouveau record. En effet, l'attaquant de Manchester United, meilleur buteur de l'histoire des sélections (112 buts), est devenu le footballeur européen le plus capé avec son équipe nationale. Il compte désormais 181 matchs avec la formation lusitanienne, soit un de plus que Sergio Ramos avec l'Espagne. Le Red Devil n'est plus qu'à cinq longueurs de Bader Ahmed al-Mutawa (Koweït), recordman absolu à l'échelle mondiale.\"\n",
    "score = re.findall(r\"\\d+-\\d+\", texte)\n",
    "print(\"Le score est de \", score, \" points\")\n",
    "\n",
    "age = re.findall(r\"\\d+ ans\", texte)\n",
    "print(\"Cristiano a \", age)\n",
    "\n",
    "goal = re.findall(r\"\\d+ buts\", texte)\n",
    "print(\"Il y a eu \", goal)\n",
    "\n",
    "selection = re.findall(r\"\\d+ matchs\", texte)\n",
    "print(\"Il y a eu \", selection)\n"
   ]
  },
  {
   "cell_type": "markdown",
   "metadata": {},
   "source": [
    "## 3. Write a regexp to get prices from the following text:"
   ]
  },
  {
   "cell_type": "code",
   "execution_count": 3,
   "metadata": {},
   "outputs": [
    {
     "data": {
      "text/plain": [
       "['230 euros', '900 euros']"
      ]
     },
     "execution_count": 3,
     "metadata": {},
     "output_type": "execute_result"
    }
   ],
   "source": [
    "texte2 = \"Vous cherchez un nouvel ordinateur portable performant, fiable et en réduction? Sur Rakuten, l’ordinateur Apple MacBook Air 2020 est en promotion, avec une remise de près de 230 euros pour un tarif final qui chute sous les 900 euros grâce à la plateforme marchande\"\n",
    "re.findall(r\"\\d+ euros\", texte2)"
   ]
  },
  {
   "cell_type": "markdown",
   "metadata": {},
   "source": [
    "## 4. Write a regexp to get reduction values, along with promo code:"
   ]
  },
  {
   "cell_type": "code",
   "execution_count": 4,
   "metadata": {},
   "outputs": [
    {
     "name": "stdout",
     "output_type": "stream",
     "text": [
      "{'code promo : PRINTEMPS': '40%', 'code promo : CARENAGE40': '40%', 'code promo : INJECTION50': '50%'}\n"
     ]
    }
   ],
   "source": [
    "texte3=\"- 40% sur tous les réservoirs d'essence et collecteurs d'échappement (achats internet uniquement) avec le code promo : PRINTEMPS \\n- 40% sur tous les carénages plastique (achats internet uniquement) avec le code promo : CARENAGE40 \\n - 50% sur toutes les rampes d'injection (achats internet uniquement) avec le code promo : INJECTION50\"\n",
    "pourcentage = re.findall(r\"..%\", texte3)\n",
    "code_promo =re.findall(r\"code promo : \\w+\", texte3)\n",
    "dico = dict(zip(code_promo, pourcentage))\n",
    "print(dico)"
   ]
  },
  {
   "cell_type": "markdown",
   "metadata": {},
   "source": [
    "# Exercise 2 [BeautifulSoup]"
   ]
  },
  {
   "cell_type": "markdown",
   "metadata": {},
   "source": [
    "### BeautifulSoup is a Python library for parsing HTML and XML documents. It is often used for web scraping. BeautifulSoup transforms a complex HTML document into a complex tree of Python objects, such as tag, navigable string, or comment.\n"
   ]
  },
  {
   "cell_type": "code",
   "execution_count": 5,
   "metadata": {},
   "outputs": [],
   "source": [
    "from bs4 import BeautifulSoup"
   ]
  },
  {
   "cell_type": "code",
   "execution_count": 6,
   "metadata": {},
   "outputs": [],
   "source": [
    "import requests\n",
    "import html5lib"
   ]
  },
  {
   "cell_type": "markdown",
   "metadata": {},
   "source": [
    "## 1. Query the website and return the html into the variable 'page'.\n",
    "## 2. Parse the html using beautiful soup and store in variable 'Soup'.\n"
   ]
  },
  {
   "cell_type": "code",
   "execution_count": 7,
   "metadata": {},
   "outputs": [],
   "source": [
    "url = \"https://www.afm-telethon.fr/telethon/bref/parrains-resultats-telethon-1379\"\n",
    "r = requests.get(url)\n",
    "soup = BeautifulSoup(r.content, 'html.parser')"
   ]
  },
  {
   "cell_type": "markdown",
   "metadata": {},
   "source": [
    "## 3. Save the Soup variable output into an HTML file and open it using web browser. What do you remark?"
   ]
  },
  {
   "cell_type": "code",
   "execution_count": 8,
   "metadata": {},
   "outputs": [],
   "source": [
    "with open(\"tst.html\", \"w\") as f:\n",
    "    f.write(str(soup))"
   ]
  },
  {
   "cell_type": "markdown",
   "metadata": {},
   "source": [
    "### C'est un fichier html contenant beaucoup de tags < a >, < p >, etc"
   ]
  },
  {
   "cell_type": "markdown",
   "metadata": {},
   "source": [
    "## 4. In 2006, the counter reached its highest level. Extract this information from the webpage.\n",
    "## Extract the same information using the selector then using the HTML tag."
   ]
  },
  {
   "cell_type": "code",
   "execution_count": 9,
   "metadata": {},
   "outputs": [
    {
     "name": "stdout",
     "output_type": "stream",
     "text": [
      "<p>C'est en 2006 que le compteur a atteint son niveau le plus haut, avec 106 696 532 €.</p>\n"
     ]
    }
   ],
   "source": [
    "for p in soup.select(\"p\"):\n",
    "    if \"a atteint son niveau le plus haut\" in p.get_text():\n",
    "        print(p)"
   ]
  },
  {
   "cell_type": "markdown",
   "metadata": {},
   "source": [
    "## 5. Retrieve the publication date from the webpage, using the CSS classes."
   ]
  },
  {
   "cell_type": "code",
   "execution_count": 10,
   "metadata": {},
   "outputs": [
    {
     "data": {
      "text/plain": [
       "'04/07/2021'"
      ]
     },
     "execution_count": 10,
     "metadata": {},
     "output_type": "execute_result"
    }
   ],
   "source": [
    "date_publication= soup.find(class_=\"datePublication\")\n",
    "date_publication\n",
    "\n",
    "date_publication2= soup.find(\"span\",{\"class\":\"datePublication\"}).get_text()\n",
    "match = re.search(r'(\\d+/\\d+/\\d+)', date_publication2)\n",
    "match.group(0)"
   ]
  },
  {
   "cell_type": "markdown",
   "metadata": {},
   "source": [
    "## 6. Retrieve the number of days remaining until the next telethon from the webpage."
   ]
  },
  {
   "cell_type": "code",
   "execution_count": 11,
   "metadata": {},
   "outputs": [
    {
     "data": {
      "text/plain": [
       "'23'"
      ]
     },
     "execution_count": 11,
     "metadata": {},
     "output_type": "execute_result"
    }
   ],
   "source": [
    "jour= soup.find(\"span\", {\"class\": \"hidden\"}).get_text()\n",
    "jour2 =re.search(r'\\d+', jour)\n",
    "jour2.group(0)"
   ]
  },
  {
   "cell_type": "markdown",
   "metadata": {},
   "source": [
    "## 7. Retrieve all hidden inputs from the webpage."
   ]
  },
  {
   "cell_type": "code",
   "execution_count": 12,
   "metadata": {},
   "outputs": [
    {
     "name": "stdout",
     "output_type": "stream",
     "text": [
      "form-_GOi-4Y0uXs25epG5efrQh4w636Gxq9YdrDeTMvsGLg\n",
      "apachesolr_panels_search_block\n",
      "66\n",
      "https://don.telethon.fr/?idm=30278&ido=1080&fdd_type=DF&bandeau=A&compteur=1&utm_source=afm_telethon&utm_medium=relais_actu&utm_campaign=afm_telethon_relais_actu_fidelisation&utm_content=cta_donner\n",
      "form-3n-cdi__LqbSHdp995GmghcRUmUWYAkZHkM4eamIu6U\n",
      "afm_specifics_donation_private_form\n",
      "\n",
      "Taille:  6\n"
     ]
    }
   ],
   "source": [
    "for hidden in soup.select('input[type=\"hidden\"]'):\n",
    "    print(hidden['value'])\n",
    "\n",
    "print(\"\\nTaille: \",len(soup.select('input[type=\"hidden\"]')))\n",
    "\n"
   ]
  },
  {
   "cell_type": "markdown",
   "metadata": {},
   "source": [
    "## 8. Find the number of tables defined in the soup. Retrieve this table from the webpage."
   ]
  },
  {
   "cell_type": "code",
   "execution_count": 44,
   "metadata": {},
   "outputs": [
    {
     "data": {
      "text/plain": [
       "<table border=\"0\" style=\"width: 1096px; height: 1035px;\"><tbody><tr><td class=\"txt-petit\">Année</td>\n",
       "<td class=\"txt-petit\">Parrain</td>\n",
       "<td class=\"txt-petit\">\n",
       "<p>Montant collecté</p>\n",
       "</td>\n",
       "</tr><tr><td class=\"fdLigneTableau\">1987</td>\n",
       "<td class=\"fdLigneTableau\">Jerry LEWIS</td>\n",
       "<td class=\"fdLigneTableau\">29 650 000 €</td>\n",
       "</tr><tr><td>1988</td>\n",
       "<td>Mireille MATHIEU</td>\n",
       "<td>28 490 000 €</td>\n",
       "</tr><tr><td class=\"fdLigneTableau\">1989</td>\n",
       "<td class=\"fdLigneTableau\">Alain DELON</td>\n",
       "<td class=\"fdLigneTableau\">40 930 000 €</td>\n",
       "</tr><tr><td>1990</td>\n",
       "<td>Claudia CARDINALE</td>\n",
       "<td>46 510 000 €</td>\n",
       "</tr><tr><td class=\"fdLigneTableau\">1991</td>\n",
       "<td class=\"fdLigneTableau\">Jerry LEWIS, Mireille MATHIEU et Ornella MUTTI</td>\n",
       "<td class=\"fdLigneTableau\">38 650 000 €</td>\n",
       "</tr><tr><td>1992</td>\n",
       "<td>Barbara HENDRICKS</td>\n",
       "<td>47 870 000 €</td>\n",
       "</tr><tr><td class=\"fdLigneTableau\">1993</td>\n",
       "<td class=\"fdLigneTableau\">Michel SARDOU</td>\n",
       "<td class=\"fdLigneTableau\">55 600 000 €</td>\n",
       "</tr><tr><td>1994</td>\n",
       "<td>Pierre PERRET</td>\n",
       "<td>57 520 000 €</td>\n",
       "</tr><tr><td class=\"fdLigneTableau\">1995</td>\n",
       "<td class=\"fdLigneTableau\">Serge LAMA</td>\n",
       "<td class=\"fdLigneTableau\">56 763 000 €</td>\n",
       "</tr><tr><td>1996</td>\n",
       "<td>Thierry LHERMITTE</td>\n",
       "<td>56 872 000 €</td>\n",
       "</tr><tr><td class=\"fdLigneTableau\">1997</td>\n",
       "<td class=\"fdLigneTableau\">Robert HOSSEIN</td>\n",
       "<td class=\"fdLigneTableau\">63 043 286 €</td>\n",
       "</tr><tr><td>1998</td>\n",
       "<td>Michel BOUJENAH </td>\n",
       "<td>70 449 000 € </td>\n",
       "</tr><tr><td class=\"fdLigneTableau\">1999</td>\n",
       "<td class=\"fdLigneTableau\">Pierre PERRET </td>\n",
       "<td class=\"fdLigneTableau\">71 417 798 € </td>\n",
       "</tr><tr><td>2000</td>\n",
       "<td>Patrick SEBASTIEN </td>\n",
       "<td>79 640 119 € </td>\n",
       "</tr><tr><td class=\"fdLigneTableau\">2001</td>\n",
       "<td class=\"fdLigneTableau\">Jane BIRKIN </td>\n",
       "<td class=\"fdLigneTableau\">81 188 013 € </td>\n",
       "</tr><tr><td>2002</td>\n",
       "<td>Axelle RED </td>\n",
       "<td>91 546 548 € </td>\n",
       "</tr><tr><td class=\"fdLigneTableau\">2003</td>\n",
       "<td class=\"fdLigneTableau\">Sandrine KIBERLAIN</td>\n",
       "<td class=\"fdLigneTableau\">97 657 833 € </td>\n",
       "</tr><tr><td>2004</td>\n",
       "<td>Gérard JUGNOT </td>\n",
       "<td>104 678 697 € </td>\n",
       "</tr><tr><td class=\"fdLigneTableau\">2005</td>\n",
       "<td class=\"fdLigneTableau\">Yannick NOAH </td>\n",
       "<td class=\"fdLigneTableau\">104 078 464 € </td>\n",
       "</tr><tr><td>2006</td>\n",
       "<td>Gérard JUGNOT et Thierry LHERMITTE</td>\n",
       "<td>106 696 532 € </td>\n",
       "</tr><tr><td class=\"fdLigneTableau\">2007</td>\n",
       "<td class=\"fdLigneTableau\">Kad MERAD et Liane FOLY </td>\n",
       "<td class=\"fdLigneTableau\">102 315 233 € </td>\n",
       "</tr><tr><td>2008</td>\n",
       "<td>Julien CLERC </td>\n",
       "<td>104 911 383 € </td>\n",
       "</tr><tr><td class=\"fdLigneTableau\">2009</td>\n",
       "<td class=\"fdLigneTableau\">Daniel AUTEUIL </td>\n",
       "<td class=\"fdLigneTableau\">95 200 117 € </td>\n",
       "</tr><tr><td>2010</td>\n",
       "<td>Anne ROUMANNOFF </td>\n",
       "<td>90 450 486 € </td>\n",
       "</tr><tr><td class=\"fdLigneTableau\">2011</td>\n",
       "<td class=\"fdLigneTableau\">Gad ELMALEH </td>\n",
       "<td class=\"fdLigneTableau\">94 091 902 € </td>\n",
       "</tr><tr><td>2012</td>\n",
       "<td>Franck DUBOSC </td>\n",
       "<td>88 156 400 € </td>\n",
       "</tr><tr class=\"fdLigneTableau\"><td>2013</td>\n",
       "<td>Patrick Bruel</td>\n",
       "<td>89 327 268 €</td>\n",
       "</tr><tr><td>2014</td>\n",
       "<td>Garou</td>\n",
       "<td>92 920 108 € </td>\n",
       "</tr><tr><td class=\"fdLigneTableau\">2015</td>\n",
       "<td class=\"fdLigneTableau\">Marc Lavoine</td>\n",
       "<td class=\"fdLigneTableau\">93 850 778 €</td>\n",
       "</tr><tr><td>2016</td>\n",
       "<td>Garou</td>\n",
       "<td>92 740 769 €</td>\n",
       "</tr><tr><td class=\"fdLigneTableau\">2017</td>\n",
       "<td class=\"fdLigneTableau\">Zazie</td>\n",
       "<td class=\"fdLigneTableau\">89 189 384 €</td>\n",
       "</tr><tr><td>2018</td>\n",
       "<td>Pascal Obispo</td>\n",
       "<td>85 844 117 €</td>\n",
       "</tr><tr><td class=\"fdLigneTableau\">2019</td>\n",
       "<td class=\"fdLigneTableau\">Jean-Paul Rouve</td>\n",
       "<td class=\"fdLigneTableau\">87 026 262 €</td>\n",
       "</tr><tr><td>2020</td>\n",
       "<td>Matt Pokora</td>\n",
       "<td>77 298 024 €</td>\n",
       "</tr></tbody></table>"
      ]
     },
     "execution_count": 44,
     "metadata": {},
     "output_type": "execute_result"
    }
   ],
   "source": [
    "table = soup.findAll(\"table\")[0]\n",
    "table"
   ]
  },
  {
   "cell_type": "code",
   "execution_count": 45,
   "metadata": {},
   "outputs": [
    {
     "data": {
      "text/plain": [
       "1"
      ]
     },
     "execution_count": 45,
     "metadata": {},
     "output_type": "execute_result"
    }
   ],
   "source": [
    "len(table)"
   ]
  },
  {
   "cell_type": "markdown",
   "metadata": {},
   "source": [
    "## 9. Retrieve the items from this table. Create a python dataframe representing this table"
   ]
  },
  {
   "cell_type": "code",
   "execution_count": 18,
   "metadata": {},
   "outputs": [],
   "source": [
    "import pandas as pd"
   ]
  },
  {
   "cell_type": "markdown",
   "metadata": {},
   "source": [
    "#### tr => TableRow\n",
    "#### td => TableData"
   ]
  },
  {
   "cell_type": "markdown",
   "metadata": {},
   "source": [
    "### Version 1"
   ]
  },
  {
   "cell_type": "code",
   "execution_count": 59,
   "metadata": {},
   "outputs": [
    {
     "data": {
      "text/html": [
       "<div>\n",
       "<style scoped>\n",
       "    .dataframe tbody tr th:only-of-type {\n",
       "        vertical-align: middle;\n",
       "    }\n",
       "\n",
       "    .dataframe tbody tr th {\n",
       "        vertical-align: top;\n",
       "    }\n",
       "\n",
       "    .dataframe thead th {\n",
       "        text-align: right;\n",
       "    }\n",
       "</style>\n",
       "<table border=\"1\" class=\"dataframe\">\n",
       "  <thead>\n",
       "    <tr style=\"text-align: right;\">\n",
       "      <th></th>\n",
       "      <th>0</th>\n",
       "      <th>1</th>\n",
       "      <th>2</th>\n",
       "    </tr>\n",
       "  </thead>\n",
       "  <tbody>\n",
       "    <tr>\n",
       "      <th>0</th>\n",
       "      <td>Année</td>\n",
       "      <td>Parrain</td>\n",
       "      <td>Montant collecté</td>\n",
       "    </tr>\n",
       "    <tr>\n",
       "      <th>1</th>\n",
       "      <td>1987</td>\n",
       "      <td>Jerry LEWIS</td>\n",
       "      <td>29 650 000 €</td>\n",
       "    </tr>\n",
       "    <tr>\n",
       "      <th>2</th>\n",
       "      <td>1988</td>\n",
       "      <td>Mireille MATHIEU</td>\n",
       "      <td>28 490 000 €</td>\n",
       "    </tr>\n",
       "    <tr>\n",
       "      <th>3</th>\n",
       "      <td>1989</td>\n",
       "      <td>Alain DELON</td>\n",
       "      <td>40 930 000 €</td>\n",
       "    </tr>\n",
       "    <tr>\n",
       "      <th>4</th>\n",
       "      <td>1990</td>\n",
       "      <td>Claudia CARDINALE</td>\n",
       "      <td>46 510 000 €</td>\n",
       "    </tr>\n",
       "  </tbody>\n",
       "</table>\n",
       "</div>"
      ],
      "text/plain": [
       "       0                  1                 2\n",
       "0  Année            Parrain  Montant collecté\n",
       "1   1987        Jerry LEWIS      29 650 000 €\n",
       "2   1988   Mireille MATHIEU      28 490 000 €\n",
       "3   1989        Alain DELON      40 930 000 €\n",
       "4   1990  Claudia CARDINALE      46 510 000 €"
      ]
     },
     "execution_count": 59,
     "metadata": {},
     "output_type": "execute_result"
    }
   ],
   "source": [
    "rows = []\n",
    "for tr in table.find_all('tr'):\n",
    "    row=[]\n",
    "    for td in tr.find_all('td'):\n",
    "        row.append(td.get_text().strip())\n",
    "    rows.append(row)\n",
    "\n",
    "df1= pd.DataFrame(rows)\n",
    "df1.head()"
   ]
  },
  {
   "cell_type": "markdown",
   "metadata": {},
   "source": [
    "### Version 2"
   ]
  },
  {
   "cell_type": "code",
   "execution_count": 60,
   "metadata": {},
   "outputs": [
    {
     "name": "stdout",
     "output_type": "stream",
     "text": [
      "Année                int32\n",
      "Parrain             object\n",
      "Montant collecté     int64\n",
      "dtype: object\n"
     ]
    },
    {
     "data": {
      "text/html": [
       "<div>\n",
       "<style scoped>\n",
       "    .dataframe tbody tr th:only-of-type {\n",
       "        vertical-align: middle;\n",
       "    }\n",
       "\n",
       "    .dataframe tbody tr th {\n",
       "        vertical-align: top;\n",
       "    }\n",
       "\n",
       "    .dataframe thead th {\n",
       "        text-align: right;\n",
       "    }\n",
       "</style>\n",
       "<table border=\"1\" class=\"dataframe\">\n",
       "  <thead>\n",
       "    <tr style=\"text-align: right;\">\n",
       "      <th></th>\n",
       "      <th>Année</th>\n",
       "      <th>Parrain</th>\n",
       "      <th>Montant collecté</th>\n",
       "    </tr>\n",
       "  </thead>\n",
       "  <tbody>\n",
       "    <tr>\n",
       "      <th>0</th>\n",
       "      <td>1987</td>\n",
       "      <td>Jerry LEWIS</td>\n",
       "      <td>29650000</td>\n",
       "    </tr>\n",
       "    <tr>\n",
       "      <th>1</th>\n",
       "      <td>1988</td>\n",
       "      <td>Mireille MATHIEU</td>\n",
       "      <td>28490000</td>\n",
       "    </tr>\n",
       "    <tr>\n",
       "      <th>2</th>\n",
       "      <td>1989</td>\n",
       "      <td>Alain DELON</td>\n",
       "      <td>40930000</td>\n",
       "    </tr>\n",
       "    <tr>\n",
       "      <th>3</th>\n",
       "      <td>1990</td>\n",
       "      <td>Claudia CARDINALE</td>\n",
       "      <td>46510000</td>\n",
       "    </tr>\n",
       "    <tr>\n",
       "      <th>4</th>\n",
       "      <td>1991</td>\n",
       "      <td>Jerry LEWIS, Mireille MATHIEU et Ornella MUTTI</td>\n",
       "      <td>38650000</td>\n",
       "    </tr>\n",
       "  </tbody>\n",
       "</table>\n",
       "</div>"
      ],
      "text/plain": [
       "   Année                                         Parrain  Montant collecté\n",
       "0   1987                                     Jerry LEWIS          29650000\n",
       "1   1988                                Mireille MATHIEU          28490000\n",
       "2   1989                                     Alain DELON          40930000\n",
       "3   1990                               Claudia CARDINALE          46510000\n",
       "4   1991  Jerry LEWIS, Mireille MATHIEU et Ornella MUTTI          38650000"
      ]
     },
     "execution_count": 60,
     "metadata": {},
     "output_type": "execute_result"
    }
   ],
   "source": [
    "# For a given row, return a list of all the data\n",
    "def getRowData(tr):\n",
    "    return [td.get_text(strip=True) for td in tr.find_all('td')]\n",
    "\n",
    "rows = []\n",
    "trs = table.findAll(\"tr\") # Get table rows\n",
    "for tr in trs: # For each row\n",
    "    rows.append(getRowData(tr)) # Get data\n",
    "\n",
    "df2 = pd.DataFrame(rows[1:], columns=rows[0]) # Create DF with specifiing colums\n",
    "df2[\"Année\"] = df[\"Année\"].astype(int)\n",
    "df2[\"Montant collecté\"] = pd.to_numeric(df2[\"Montant collecté\"].str.replace(\" \", \"\").str.replace(\"€\", \"\").str.strip())\n",
    "\n",
    "print(df2.dtypes)\n",
    "df2.head()"
   ]
  },
  {
   "cell_type": "markdown",
   "metadata": {},
   "source": [
    "### Version 3"
   ]
  },
  {
   "cell_type": "code",
   "execution_count": 64,
   "metadata": {},
   "outputs": [
    {
     "data": {
      "text/html": [
       "<div>\n",
       "<style scoped>\n",
       "    .dataframe tbody tr th:only-of-type {\n",
       "        vertical-align: middle;\n",
       "    }\n",
       "\n",
       "    .dataframe tbody tr th {\n",
       "        vertical-align: top;\n",
       "    }\n",
       "\n",
       "    .dataframe thead th {\n",
       "        text-align: right;\n",
       "    }\n",
       "</style>\n",
       "<table border=\"1\" class=\"dataframe\">\n",
       "  <thead>\n",
       "    <tr style=\"text-align: right;\">\n",
       "      <th></th>\n",
       "      <th>Année</th>\n",
       "      <th>Parrain</th>\n",
       "      <th>Montant collecté</th>\n",
       "    </tr>\n",
       "  </thead>\n",
       "  <tbody>\n",
       "    <tr>\n",
       "      <th>0</th>\n",
       "      <td>1987</td>\n",
       "      <td>Jerry LEWIS</td>\n",
       "      <td>29 650 000 €</td>\n",
       "    </tr>\n",
       "    <tr>\n",
       "      <th>1</th>\n",
       "      <td>1988</td>\n",
       "      <td>Mireille MATHIEU</td>\n",
       "      <td>28 490 000 €</td>\n",
       "    </tr>\n",
       "    <tr>\n",
       "      <th>2</th>\n",
       "      <td>1989</td>\n",
       "      <td>Alain DELON</td>\n",
       "      <td>40 930 000 €</td>\n",
       "    </tr>\n",
       "    <tr>\n",
       "      <th>3</th>\n",
       "      <td>1990</td>\n",
       "      <td>Claudia CARDINALE</td>\n",
       "      <td>46 510 000 €</td>\n",
       "    </tr>\n",
       "    <tr>\n",
       "      <th>4</th>\n",
       "      <td>1991</td>\n",
       "      <td>Jerry LEWIS, Mireille MATHIEU et Ornella MUTTI</td>\n",
       "      <td>38 650 000 €</td>\n",
       "    </tr>\n",
       "  </tbody>\n",
       "</table>\n",
       "</div>"
      ],
      "text/plain": [
       "  Année                                         Parrain Montant collecté\n",
       "0  1987                                     Jerry LEWIS     29 650 000 €\n",
       "1  1988                                Mireille MATHIEU     28 490 000 €\n",
       "2  1989                                     Alain DELON     40 930 000 €\n",
       "3  1990                               Claudia CARDINALE     46 510 000 €\n",
       "4  1991  Jerry LEWIS, Mireille MATHIEU et Ornella MUTTI     38 650 000 €"
      ]
     },
     "execution_count": 64,
     "metadata": {},
     "output_type": "execute_result"
    }
   ],
   "source": [
    "col_names = [td.get_text().strip() for td in soup.select(\"tr td\")[:3]]\n",
    "elements = [td.get_text() for td in soup.select(\"tr td\")[3:]]\n",
    "year = [td for td in elements[0::3]]\n",
    "referrer = [td for td in elements[1::3]]\n",
    "amount_collected = [td for td in elements[2::3]]\n",
    "\n",
    "df3= pd.DataFrame(dict(zip(col_names,[year, referrer, amount_collected])))\n",
    "df3.head()"
   ]
  },
  {
   "cell_type": "markdown",
   "metadata": {},
   "source": [
    "## 10 & 11. Visualize the evolution of the amount collected per year. Mark the maximum and minimum of the evolution with respectively red and green colors."
   ]
  },
  {
   "cell_type": "code",
   "execution_count": 62,
   "metadata": {},
   "outputs": [],
   "source": [
    "import matplotlib.pyplot as plt"
   ]
  },
  {
   "cell_type": "markdown",
   "metadata": {},
   "source": [
    "### Version 1"
   ]
  },
  {
   "cell_type": "code",
   "execution_count": 109,
   "metadata": {},
   "outputs": [
    {
     "data": {
      "text/plain": [
       "<AxesSubplot:title={'center':'Montants collectés au fil du temps'}, xlabel='Année', ylabel='Montant'>"
      ]
     },
     "execution_count": 109,
     "metadata": {},
     "output_type": "execute_result"
    },
    {
     "data": {
      "image/png": "[encoded data removed]",
      "text/plain": [
       "<Figure size 1080x720 with 1 Axes>"
      ]
     },
     "metadata": {
      "needs_background": "light"
     },
     "output_type": "display_data"
    }
   ],
   "source": [
    "fig, ax= plt.subplots(figsize=(15,10))\n",
    "\n",
    "a = pd.concat({'x': df2[\"Année\"], 'y': df2[\"Montant collecté\"], 'val': df2[\"Parrain\"]}, axis=1)\n",
    "for i, point in a.iterrows():\n",
    "    ax.text(point['x'], point['y'], point['val'])\n",
    "\n",
    "df2.plot(\"Année\", \"Montant collecté\", style='--o', title=\"Montants collectés au fil du temps\", ylabel=\"Montant\", color='deeppink', grid=True,ax=ax)\n"
   ]
  },
  {
   "cell_type": "markdown",
   "metadata": {},
   "source": [
    "## Version 2"
   ]
  },
  {
   "cell_type": "code",
   "execution_count": 106,
   "metadata": {},
   "outputs": [
    {
     "data": {
      "text/plain": [
       "<matplotlib.legend.Legend at 0x2c9c58463d0>"
      ]
     },
     "execution_count": 106,
     "metadata": {},
     "output_type": "execute_result"
    },
    {
     "data": {
      "image/png": "[encoded data removed]",
      "text/plain": [
       "<Figure size 720x720 with 1 Axes>"
      ]
     },
     "metadata": {
      "needs_background": "light"
     },
     "output_type": "display_data"
    }
   ],
   "source": [
    "plot_df= df2.set_index('Année')['Montant collecté']\n",
    "ax = plot_df.plot(kind='line', figsize=[10,10], style ='--o', color= \"deeppink\", title = 'Evolution des montants collectés sur les années', grid= True)\n",
    "\n",
    "ax.scatter(\n",
    "    plot_df.idxmax(),\n",
    "    plot_df.max(),\n",
    "    color= 'green',\n",
    "    marker = '^',\n",
    "    s = 200,\n",
    "    zorder = 3,\n",
    "    label = \"max value\"\n",
    ")\n",
    "ax.scatter(\n",
    "    plot_df.idxmin(),\n",
    "    plot_df.min(),\n",
    "    color= 'red',\n",
    "    marker = 'v',\n",
    "    s = 200,\n",
    "    zorder = 3,\n",
    "    label = \"min value\"\n",
    ")\n",
    "\n",
    "ax.legend()"
   ]
  },
  {
   "cell_type": "markdown",
   "metadata": {},
   "source": []
  },
  {
   "cell_type": "code",
   "execution_count": null,
   "metadata": {},
   "outputs": [],
   "source": []
  },
  {
   "cell_type": "markdown",
   "metadata": {},
   "source": [
    "# Exercice 3"
   ]
  },
  {
   "cell_type": "markdown",
   "metadata": {},
   "source": [
    "## 1. Store the html table in a dataframe."
   ]
  },
  {
   "cell_type": "code",
   "execution_count": 68,
   "metadata": {},
   "outputs": [
    {
     "name": "stdout",
     "output_type": "stream",
     "text": [
      "[<table class=\"tableau-metadonnees-light\">\n",
      "<tr>\n",
      "<th>\n",
      "<span class=\"hide-on-small-only\">Département 75</span>\n",
      "<span class=\"hide-on-med-and-up\">Dept. 75</span>\n",
      "</th>\n",
      "<td>Paris</td>\n",
      "</tr>\n",
      "<tr>\n",
      "<th>Altitude</th>\n",
      "<td>75 mètres</td>\n",
      "</tr>\n",
      "<tr>\n",
      "<th>Coordonnées</th>\n",
      "<td>\n",
      "                        48,82°N | 2,34°E                    </td>\n",
      "</tr>\n",
      "<tr><!-- temps réel-->\n",
      "<th><span class=\"tripsy-trigger\" title=\"Il s'agit des archives horaires disponibles sur Infoclimat.\">Début des archives</span></th>\n",
      "<td>\n",
      "                        9 décembre  1983                    </td>\n",
      "</tr>\n",
      "<tr>\n",
      "<th>Fuseau horaire</th>\n",
      "<td>Europe/Paris</td>\n",
      "</tr>\n",
      "<tr>\n",
      "<th>Type de station</th>\n",
      "<td>\n",
      "                        Météo-France                    </td>\n",
      "</tr>\n",
      "</table>, <table class=\"resptable\" id=\"duplicate-resptable\" style=\"z-index:2000; position: fixed; display:none; top:0; left:0; right:0\">\n",
      "<thead style=\"position:relative;\"></thead>\n",
      "</table>, <table class=\"resptable\" id=\"resptable-releves\">\n",
      "<thead>\n",
      "<tr>\n",
      "<th style=\"\">\n",
      "                Heure locale\n",
      "                            </th>\n",
      "<th><!--plus--></th>\n",
      "<th><a class=\"tipsy-trigger white-text\" href=\"javascript:void(0)\" title=\"Température sous abri normalisé,&lt;br /&gt;relevée entre 1m50 et 2m du sol\">Tempé<span class=\"hide-on-small-only\">rature</span></a></th><th><a class=\"tipsy-trigger white-text\" href=\"javascript:void(0)\" title=\"Précipitations tombées en 1h\">Pluie</a></th><th><a class=\"tipsy-trigger white-text\" href=\"javascript:void(0)\" title=\"Vent moyen et en rafales, observé à 10m\">Vent</a></th><th><a class=\"tipsy-trigger white-text\" href=\"javascript:void(0)\" title=\"Humidité relative\">Humidité</a></th><th><a class=\"tipsy-trigger white-text\" href=\"javascript:void(0)\" title=\"&lt;b&gt;Température ressentie&lt;/b&gt;&lt;br /&gt;Elle correspond au windchill (indice de refroidissement éolien) lorsque la température est inférieure à 10°C, et à l'humidex (indice de chaleur) lorsque la température est supérieure à 20°C. &lt;b&gt;Ces données n'ont pas d'unité et ne correspondent pas à une température observée.&lt;/b&gt; &lt;br /&gt;Cette colonne affiche aussi, si disponible, les valeurs d'indice UV et de radiations solaires.\">Bio-météo</a></th><th><a class=\"tipsy-trigger white-text\" href=\"javascript:void(0)\" title=\"Point de rosée observé à 2m\">Pt. de rosée</a></th><th><a class=\"tipsy-trigger white-text\" href=\"javascript:void(0)\" title=\"Pression atmosphérique ramenée au niveau de la mer\">Pression</a></th><th><a class=\"tipsy-trigger white-text\" href=\"javascript:void(0)\" title=\"Visibilité horizontale\">Visibilité</a></th> </tr>\n",
      "</thead>\n",
      "<tbody>\n",
      "<tr>\n",
      "<!-- heure -->\n",
      "<th style=\"font-size:1.25em\">\n",
      "<span class=\"tipsy-trigger\" title=\"Heure réelle d'émission :&lt;br /&gt;07/09/2019&lt;br /&gt;&lt;b&gt;23h00 UTC&lt;/b&gt;\">01h</span> </th>\n",
      "<!-- plus -->\n",
      "<td style=\"padding:2px 4px\">\n",
      "<a href=\"/stations-meteo/image_mf.php?id=07156&amp;dh=2019-09-07 23:00:00&amp;token=5699f92d4da4f85d282321e84a8a2492\" target=\"_blank\"><i class=\"material-icons\">add_circle_outline</i></a>\n",
      "</td>\n",
      "<td style=\"/*background-color:rgba(0,0,0,0.1)*/\"><span class=\"tipsy-trigger\" style=\"font-weight:bold;display:inline-block;font-size:16px\" title=\"&lt;div&gt;Minimale sur 1h : 13.9°C à 22:53 UTC&lt;/div&gt;&lt;div&gt;Maximale sur 1h : 14.3°C à 22:01 UTC&lt;/div&gt;\">13.9</span> <span class=\"tab-units-v\">°C</span><span class=\"color-heatmap\" style=\"background-color:rgb(245,255,25)\"></span> <div style=\"font-size:9px; margin-bottom: -8px\">\n",
      "<span style=\"color:#081dbb\">13.9</span> → <span style=\"color:#841910\">14.3</span>\n",
      "</div></td><td>0 <span class=\"tab-units-v\">mm/1h</span><span class=\"color-heatmap\" style=\"background-color:rgb(255,255,255)\"></span></td><td style=\"padding-left:20px; white-space: nowrap;\"><span style=\"font-weight:bold\">14</span> <span class=\"tab-units-v\">km/h</span><span class=\"color-heatmap\" style=\"background-color:rgb(128,255,64)\"></span><br/><span class=\"tipsy-trigger\" title=\"Rafale sur 10mn : 32.4km/h\"><span class=\"tab-units-v\">raf.</span><span style=\"font-weight:bold\">32.4</span></span> <div class=\"tipsy-trigger\" style=\"position: absolute; left:0px; top:50%; margin-top:-10px; height:20px; width:20px; background-image:url(//static.infoclimat.net/images/pictos_vent2/sprite.png); background-position: 240px 0px\" title=\"Vent de direction 360°\">\n",
      "</div></td><td><span style=\"font-weight:bold;display:inline-block\">76</span><span class=\"tab-units-v\">%</span><span class=\"color-heatmap\" style=\"background-color:rgb(61,183,188)\"></span></td><td style=\"/*background-color:rgba(0,0,0,0.1)*/\"></td><td><span style=\"font-weight:bold;display:inline-block\">9.7</span> <span class=\"tab-units-v\">°C</span><span class=\"color-heatmap\" style=\"background-color:rgb(196,255,106)\"></span></td><td style=\"/*background-color:rgba(0,0,0,0.1)*/\">1023<span class=\"tab-units-v\">hPa</span><span class=\"color-heatmap\" style=\"background-color:rgb(255,203,0)\"></span><br/><img alt=\"montee\" class=\"tipsy-trigger\" src=\"//static.infoclimat.net/images/v5.2/up.png\" style=\"height:12px\" title=\"+0.2 hPa/3h\"/></td><td>20 <span class=\"tab-units-v\">km</span></td> </tr>\n",
      "<tr>\n",
      "<!-- heure -->\n",
      "<th style=\"font-size:1.25em\">\n",
      "<span class=\"tipsy-trigger\" title=\"Heure réelle d'émission :&lt;br /&gt;07/09/2019&lt;br /&gt;&lt;b&gt;22h00 UTC&lt;/b&gt;\">00h</span> </th>\n",
      "<!-- plus -->\n",
      "<td style=\"padding:2px 4px\">\n",
      "<a href=\"/stations-meteo/image_mf.php?id=07156&amp;dh=2019-09-07 22:00:00&amp;token=c8a500f760a492145793d2b2032871af\" target=\"_blank\"><i class=\"material-icons\">add_circle_outline</i></a>\n",
      "</td>\n",
      "<td style=\"/*background-color:rgba(0,0,0,0.1)*/\"><span class=\"tipsy-trigger\" style=\"font-weight:bold;display:inline-block;font-size:16px\" title=\"&lt;div&gt;Minimale sur 1h : 14.3°C à 21:52 UTC&lt;/div&gt;&lt;div&gt;Maximale sur 1h : 14.9°C à 21:01 UTC&lt;/div&gt;\">14.3</span> <span class=\"tab-units-v\">°C</span><span class=\"color-heatmap\" style=\"background-color:rgb(248,255,16)\"></span> <div style=\"font-size:9px; margin-bottom: -8px\">\n",
      "<span style=\"color:#081dbb\">14.3</span> → <span style=\"color:#841910\">14.9</span>\n",
      "</div></td><td>0 <span class=\"tab-units-v\">mm/1h</span><span class=\"color-heatmap\" style=\"background-color:rgb(255,255,255)\"></span></td><td style=\"padding-left:20px; white-space: nowrap;\"><span style=\"font-weight:bold\">18</span> <span class=\"tab-units-v\">km/h</span><span class=\"color-heatmap\" style=\"background-color:rgb(128,255,64)\"></span><br/><span class=\"tipsy-trigger\" title=\"Rafale sur 10mn : 36km/h\"><span class=\"tab-units-v\">raf.</span><span style=\"font-weight:bold\">37.8</span></span> <div class=\"tipsy-trigger\" style=\"position: absolute; left:0px; top:50%; margin-top:-10px; height:20px; width:20px; background-image:url(//static.infoclimat.net/images/pictos_vent2/sprite.png); background-position: 240px 0px\" title=\"Vent de direction 10°\">\n",
      "</div></td><td><span style=\"font-weight:bold;display:inline-block\">73</span><span class=\"tab-units-v\">%</span><span class=\"color-heatmap\" style=\"background-color:rgb(73,190,186)\"></span></td><td style=\"/*background-color:rgba(0,0,0,0.1)*/\"></td><td><span style=\"font-weight:bold;display:inline-block\">9.5</span> <span class=\"tab-units-v\">°C</span><span class=\"color-heatmap\" style=\"background-color:rgb(187,255,102)\"></span></td><td style=\"/*background-color:rgba(0,0,0,0.1)*/\">1023.2<span class=\"tab-units-v\">hPa</span><span class=\"color-heatmap\" style=\"background-color:rgb(255,203,0)\"></span><br/><img alt=\"montee\" class=\"tipsy-trigger\" src=\"//static.infoclimat.net/images/v5.2/up.png\" style=\"height:12px\" title=\"+0.9 hPa/3h\"/></td><td>20 <span class=\"tab-units-v\">km</span></td> </tr>\n",
      "<tr>\n",
      "<!-- heure -->\n",
      "<th style=\"font-size:1.25em\">\n",
      "<span class=\"tipsy-trigger\" title=\"Heure réelle d'émission :&lt;br /&gt;07/09/2019&lt;br /&gt;&lt;b&gt;21h00 UTC&lt;/b&gt;\">23h</span> </th>\n",
      "<!-- plus -->\n",
      "<td style=\"padding:2px 4px\">\n",
      "<a href=\"/stations-meteo/image_mf.php?id=07156&amp;dh=2019-09-07 21:00:00&amp;token=17eb41dbbd96b9914638212331263c8c\" target=\"_blank\"><i class=\"material-icons\">add_circle_outline</i></a>\n",
      "</td>\n",
      "<td style=\"/*background-color:rgba(0,0,0,0.1)*/\"><span class=\"tipsy-trigger\" style=\"font-weight:bold;display:inline-block;font-size:16px\" title=\"&lt;div&gt;Minimale sur 1h : 14.7°C à 20:02 UTC&lt;/div&gt;&lt;div&gt;Maximale sur 1h : 14.9°C à 20:43 UTC&lt;/div&gt;\">14.9</span> <span class=\"tab-units-v\">°C</span><span class=\"color-heatmap\" style=\"background-color:rgb(254,255,2)\"></span> <div style=\"font-size:9px; margin-bottom: -8px\">\n",
      "<span style=\"color:#081dbb\">14.7</span> → <span style=\"color:#841910\">14.9</span>\n",
      "</div></td><td>0 <span class=\"tab-units-v\">mm/1h</span><span class=\"color-heatmap\" style=\"background-color:rgb(255,255,255)\"></span><br/><a class=\"tipsy-trigger button-rr-pluvio\" href=\"javascript:void(0)\" style=\"opacity:0.3;\" title=\"&lt;table class='minitable-details' style='table-layout:fixed'&gt;&lt;tr&gt;&lt;td&gt;&lt;b&gt;Pluie/3h :&lt;/b&gt;&lt;/td&gt;&lt;td&gt;0mm&lt;/td&gt;&lt;/tr&gt;&lt;/table&gt;\"><span></span></a></td><td style=\"padding-left:20px; white-space: nowrap;\"><span style=\"font-weight:bold\">14</span> <span class=\"tab-units-v\">km/h</span><span class=\"color-heatmap\" style=\"background-color:rgb(128,255,64)\"></span><br/><span class=\"tipsy-trigger\" title=\"Rafale sur 10mn : 32.4km/h\"><span class=\"tab-units-v\">raf.</span><span style=\"font-weight:bold\">39.6</span></span> <div class=\"tipsy-trigger\" style=\"position: absolute; left:0px; top:50%; margin-top:-10px; height:20px; width:20px; background-image:url(//static.infoclimat.net/images/pictos_vent2/sprite.png); background-position: 240px 0px\" title=\"Vent de direction 10°\">\n",
      "</div></td><td><span style=\"font-weight:bold;display:inline-block\">69</span><span class=\"tab-units-v\">%</span><span class=\"color-heatmap\" style=\"background-color:rgb(88,198,183)\"></span></td><td style=\"/*background-color:rgba(0,0,0,0.1)*/\"></td><td><span style=\"font-weight:bold;display:inline-block\">9.3</span> <span class=\"tab-units-v\">°C</span><span class=\"color-heatmap\" style=\"background-color:rgb(179,255,97)\"></span></td><td style=\"/*background-color:rgba(0,0,0,0.1)*/\">1023.0<span class=\"tab-units-v\">hPa</span><span class=\"color-heatmap\" style=\"background-color:rgb(255,203,0)\"></span><br/><img alt=\"montee\" class=\"tipsy-trigger\" src=\"//static.infoclimat.net/images/v5.2/up.png\" style=\"height:12px\" title=\"+1.3 hPa/3h\"/></td><td>20 <span class=\"tab-units-v\">km</span></td> </tr>\n",
      "<tr>\n",
      "<!-- heure -->\n",
      "<th style=\"font-size:1.25em\">\n",
      "<span class=\"tipsy-trigger\" title=\"Heure réelle d'émission :&lt;br /&gt;07/09/2019&lt;br /&gt;&lt;b&gt;20h00 UTC&lt;/b&gt;\">22h</span> </th>\n",
      "<!-- plus -->\n",
      "<td style=\"padding:2px 4px\">\n",
      "<a href=\"/stations-meteo/image_mf.php?id=07156&amp;dh=2019-09-07 20:00:00&amp;token=0d6cd601594d8f7fa36b57a12bd5cc0c\" target=\"_blank\"><i class=\"material-icons\">add_circle_outline</i></a>\n",
      "</td>\n",
      "<td style=\"/*background-color:rgba(0,0,0,0.1)*/\"><span class=\"tipsy-trigger\" style=\"font-weight:bold;display:inline-block;font-size:16px\" title=\"&lt;div&gt;Minimale sur 1h : 14.8°C à 19:50 UTC&lt;/div&gt;&lt;div&gt;Maximale sur 1h : 15.4°C à 19:01 UTC&lt;/div&gt;\">14.8</span> <span class=\"tab-units-v\">°C</span><span class=\"color-heatmap\" style=\"background-color:rgb(253,255,5)\"></span> <div style=\"font-size:9px; margin-bottom: -8px\">\n",
      "<span style=\"color:#081dbb\">14.8</span> → <span style=\"color:#841910\">15.4</span>\n",
      "</div></td><td>0 <span class=\"tab-units-v\">mm/1h</span><span class=\"color-heatmap\" style=\"background-color:rgb(255,255,255)\"></span></td><td style=\"padding-left:20px; white-space: nowrap;\"><span style=\"font-weight:bold\">18</span> <span class=\"tab-units-v\">km/h</span><span class=\"color-heatmap\" style=\"background-color:rgb(128,255,64)\"></span><br/><span class=\"tipsy-trigger\" title=\"Rafale sur 10mn : 36km/h\"><span class=\"tab-units-v\">raf.</span><span style=\"font-weight:bold\">34.2</span></span> <div class=\"tipsy-trigger\" style=\"position: absolute; left:0px; top:50%; margin-top:-10px; height:20px; width:20px; background-image:url(//static.infoclimat.net/images/pictos_vent2/sprite.png); background-position: 240px 0px\" title=\"Vent de direction 10°\">\n",
      "</div></td><td><span style=\"font-weight:bold;display:inline-block\">67</span><span class=\"tab-units-v\">%</span><span class=\"color-heatmap\" style=\"background-color:rgb(95,202,182)\"></span></td><td style=\"/*background-color:rgba(0,0,0,0.1)*/\"></td><td><span style=\"font-weight:bold;display:inline-block\">8.7</span> <span class=\"tab-units-v\">°C</span><span class=\"color-heatmap\" style=\"background-color:rgb(154,254,84)\"></span></td><td style=\"/*background-color:rgba(0,0,0,0.1)*/\">1022.8<span class=\"tab-units-v\">hPa</span><span class=\"color-heatmap\" style=\"background-color:rgb(255,203,0)\"></span><br/><img alt=\"montee\" class=\"tipsy-trigger\" src=\"//static.infoclimat.net/images/v5.2/up.png\" style=\"height:12px\" title=\"+1.6 hPa/3h\"/></td><td>20 <span class=\"tab-units-v\">km</span></td> </tr>\n",
      "<tr>\n",
      "<!-- heure -->\n",
      "<th style=\"font-size:1.25em\">\n",
      "<span class=\"tipsy-trigger\" title=\"Heure réelle d'émission :&lt;br /&gt;07/09/2019&lt;br /&gt;&lt;b&gt;19h00 UTC&lt;/b&gt;\">21h</span> </th>\n",
      "<!-- plus -->\n",
      "<td style=\"padding:2px 4px\">\n",
      "<a href=\"/stations-meteo/image_mf.php?id=07156&amp;dh=2019-09-07 19:00:00&amp;token=b87d2a4a33db79bd2eaa065b30196c8a\" target=\"_blank\"><i class=\"material-icons\">add_circle_outline</i></a>\n",
      "</td>\n",
      "<td style=\"/*background-color:rgba(0,0,0,0.1)*/\"><span class=\"tipsy-trigger\" style=\"font-weight:bold;display:inline-block;font-size:16px\" title=\"&lt;div&gt;Minimale sur 1h : 15.4°C à 19:00 UTC&lt;/div&gt;&lt;div&gt;Maximale sur 1h : 16.8°C à 18:01 UTC&lt;/div&gt;\">15.4</span> <span class=\"tab-units-v\">°C</span><span class=\"color-heatmap\" style=\"background-color:rgb(255,247,5)\"></span> <div style=\"font-size:9px; margin-bottom: -8px\">\n",
      "<span style=\"color:#081dbb\">15.4</span> → <span style=\"color:#841910\">16.8</span>\n",
      "</div></td><td>0 <span class=\"tab-units-v\">mm/1h</span><span class=\"color-heatmap\" style=\"background-color:rgb(255,255,255)\"></span></td><td style=\"padding-left:20px; white-space: nowrap;\"><span style=\"font-weight:bold\">14</span> <span class=\"tab-units-v\">km/h</span><span class=\"color-heatmap\" style=\"background-color:rgb(255,224,64)\"></span><br/><span class=\"tipsy-trigger\" title=\"Rafale sur 10mn : 28.8km/h\"><span class=\"tab-units-v\">raf.</span><span style=\"font-weight:bold\">45.7</span></span> <div class=\"tipsy-trigger\" style=\"position: absolute; left:0px; top:50%; margin-top:-10px; height:20px; width:20px; background-image:url(//static.infoclimat.net/images/pictos_vent2/sprite.png); background-position: 220px 0px\" title=\"Vent de direction 20°\">\n",
      "</div></td><td><span style=\"font-weight:bold;display:inline-block\">62</span><span class=\"tab-units-v\">%</span><span class=\"color-heatmap\" style=\"background-color:rgb(114,212,179)\"></span></td><td style=\"/*background-color:rgba(0,0,0,0.1)*/\"></td><td><span style=\"font-weight:bold;display:inline-block\">8.2</span> <span class=\"tab-units-v\">°C</span><span class=\"color-heatmap\" style=\"background-color:rgb(133,254,72)\"></span></td><td style=\"/*background-color:rgba(0,0,0,0.1)*/\">1022.2<span class=\"tab-units-v\">hPa</span><span class=\"color-heatmap\" style=\"background-color:rgb(255,227,0)\"></span><br/><img alt=\"montee\" class=\"tipsy-trigger\" src=\"//static.infoclimat.net/images/v5.2/up.png\" style=\"height:12px\" title=\"+1.2 hPa/3h\"/></td><td>20 <span class=\"tab-units-v\">km</span></td> </tr>\n",
      "<tr>\n",
      "<!-- heure -->\n",
      "<th style=\"font-size:1.25em\">\n",
      "<span class=\"tipsy-trigger\" title=\"Heure réelle d'émission :&lt;br /&gt;07/09/2019&lt;br /&gt;&lt;b&gt;18h00 UTC&lt;/b&gt;\">20h</span><img alt=\"coucher du soleil\" class=\"tipsy-trigger\" src=\"//static.infoclimat.net/images/v5.2/coucher.png\" style=\"position: absolute; right:1px; top:50%;\" title=\"Coucher du soleil : 18h18 UTC\"/> </th>\n",
      "<!-- plus -->\n",
      "<td style=\"padding:2px 4px\">\n",
      "<a href=\"/stations-meteo/image_mf.php?id=07156&amp;dh=2019-09-07 18:00:00&amp;token=d243fd7be6fe1bca0d319121ca038313\" target=\"_blank\"><i class=\"material-icons\">add_circle_outline</i></a>\n",
      "</td>\n",
      "<td style=\"/*background-color:rgba(0,0,0,0.1)*/\"><span class=\"tipsy-trigger\" style=\"font-weight:bold;display:inline-block;font-size:16px\" title=\"&lt;div&gt;Minimale sur 1h : 16.8°C à 17:59 UTC&lt;/div&gt;&lt;div&gt;Maximale sur 1h : 17.8°C à 17:02 UTC&lt;/div&gt;\">16.8</span> <span class=\"tab-units-v\">°C</span><span class=\"color-heatmap\" style=\"background-color:rgb(255,221,23)\"></span> <div style=\"font-size:9px; margin-bottom: -8px\">\n",
      "<span style=\"color:#081dbb\">16.8</span> → <span style=\"color:#841910\">17.8</span>\n",
      "</div></td><td>0 <span class=\"tab-units-v\">mm/1h</span><span class=\"color-heatmap\" style=\"background-color:rgb(255,255,255)\"></span><br/><a class=\"tipsy-trigger button-rr-pluvio\" href=\"javascript:void(0)\" style=\"opacity:0.3;\" title=\"&lt;table class='minitable-details' style='table-layout:fixed'&gt;&lt;tr&gt;&lt;td&gt;&lt;b&gt;Pluie/3h :&lt;/b&gt;&lt;/td&gt;&lt;td&gt;0mm&lt;/td&gt;&lt;/tr&gt;&lt;/table&gt;\"><span></span></a></td><td style=\"padding-left:20px; white-space: nowrap;\"><span style=\"font-weight:bold\">22</span> <span class=\"tab-units-v\">km/h</span><span class=\"color-heatmap\" style=\"background-color:rgb(255,224,64)\"></span><br/><span class=\"tipsy-trigger\" title=\"Rafale sur 10mn : 43.2km/h\"><span class=\"tab-units-v\">raf.</span><span style=\"font-weight:bold\">42.8</span></span> <div class=\"tipsy-trigger\" style=\"position: absolute; left:0px; top:50%; margin-top:-10px; height:20px; width:20px; background-image:url(//static.infoclimat.net/images/pictos_vent2/sprite.png); background-position: 220px 0px\" title=\"Vent de direction 30°\">\n",
      "</div></td><td><span style=\"font-weight:bold;display:inline-block\">59</span><span class=\"tab-units-v\">%</span><span class=\"color-heatmap\" style=\"background-color:rgb(125,218,177)\"></span></td><td style=\"/*background-color:rgba(0,0,0,0.1)*/\"><a class=\"tipsy-trigger button-rr-soleil\" href=\"javascript:void(0)\" title=\"Radiations Solaires mesurées (W/m²)\"><span class=\"\">81 </span></a></td><td><span style=\"font-weight:bold;display:inline-block\">8.7</span> <span class=\"tab-units-v\">°C</span><span class=\"color-heatmap\" style=\"background-color:rgb(154,254,84)\"></span></td><td style=\"/*background-color:rgba(0,0,0,0.1)*/\">1021.6<span class=\"tab-units-v\">hPa</span><span class=\"color-heatmap\" style=\"background-color:rgb(255,227,0)\"></span><br/><img alt=\"montee\" class=\"tipsy-trigger\" src=\"//static.infoclimat.net/images/v5.2/up.png\" style=\"height:12px\" title=\"+0.7 hPa/3h\"/></td><td>20 <span class=\"tab-units-v\">km</span></td> </tr>\n",
      "<tr>\n",
      "<!-- heure -->\n",
      "<th style=\"font-size:1.25em\">\n",
      "<span class=\"tipsy-trigger\" title=\"Heure réelle d'émission :&lt;br /&gt;07/09/2019&lt;br /&gt;&lt;b&gt;17h00 UTC&lt;/b&gt;\">19h</span> </th>\n",
      "<!-- plus -->\n",
      "<td style=\"padding:2px 4px\">\n",
      "<a href=\"/stations-meteo/image_mf.php?id=07156&amp;dh=2019-09-07 17:00:00&amp;token=bc17c6bbbf5d4629b18200603b6caa4e\" target=\"_blank\"><i class=\"material-icons\">add_circle_outline</i></a>\n",
      "</td>\n",
      "<td style=\"/*background-color:rgba(0,0,0,0.1)*/\"><span class=\"tipsy-trigger\" style=\"font-weight:bold;display:inline-block;font-size:16px\" title=\"&lt;div&gt;Minimale sur 1h : 17.6°C à 16:43 UTC&lt;/div&gt;&lt;div&gt;Maximale sur 1h : 18.2°C à 16:05 UTC&lt;/div&gt;\">17.7</span> <span class=\"tab-units-v\">°C</span><span class=\"color-heatmap\" style=\"background-color:rgb(255,204,35)\"></span> <div style=\"font-size:9px; margin-bottom: -8px\">\n",
      "<span style=\"color:#081dbb\">17.6</span> → <span style=\"color:#841910\">18.2</span>\n",
      "</div></td><td>0 <span class=\"tab-units-v\">mm/1h</span><span class=\"color-heatmap\" style=\"background-color:rgb(255,255,255)\"></span></td><td style=\"padding-left:20px; white-space: nowrap;\"><span style=\"font-weight:bold\">18</span> <span class=\"tab-units-v\">km/h</span><span class=\"color-heatmap\" style=\"background-color:rgb(128,255,64)\"></span><br/><span class=\"tipsy-trigger\" title=\"Rafale sur 10mn : 39.6km/h\"><span class=\"tab-units-v\">raf.</span><span style=\"font-weight:bold\">37.8</span></span> <div class=\"tipsy-trigger\" style=\"position: absolute; left:0px; top:50%; margin-top:-10px; height:20px; width:20px; background-image:url(//static.infoclimat.net/images/pictos_vent2/sprite.png); background-position: 240px 0px\" title=\"Vent de direction 10°\">\n",
      "</div></td><td><span style=\"font-weight:bold;display:inline-block\">51</span><span class=\"tab-units-v\">%</span><span class=\"color-heatmap\" style=\"background-color:rgb(154,235,172)\"></span></td><td style=\"/*background-color:rgba(0,0,0,0.1)*/\"><a class=\"tipsy-trigger button-rr-soleil\" href=\"javascript:void(0)\" title=\"Radiations Solaires mesurées (W/m²)\"><span class=\"\">144 </span></a></td><td><span style=\"font-weight:bold;display:inline-block\">7.4</span> <span class=\"tab-units-v\">°C</span><span class=\"color-heatmap\" style=\"background-color:rgb(100,253,54)\"></span></td><td style=\"/*background-color:rgba(0,0,0,0.1)*/\">1021.1<span class=\"tab-units-v\">hPa</span><span class=\"color-heatmap\" style=\"background-color:rgb(255,255,0)\"></span><br/><img alt=\"montee\" class=\"tipsy-trigger\" src=\"//static.infoclimat.net/images/v5.2/up.png\" style=\"height:12px\" title=\"+0.3 hPa/3h\"/></td><td>20 <span class=\"tab-units-v\">km</span></td> </tr>\n",
      "<tr>\n",
      "<!-- heure -->\n",
      "<th style=\"font-size:1.25em\">\n",
      "<span class=\"tipsy-trigger\" title=\"Heure réelle d'émission :&lt;br /&gt;07/09/2019&lt;br /&gt;&lt;b&gt;16h00 UTC&lt;/b&gt;\">18h</span> </th>\n",
      "<!-- plus -->\n",
      "<td style=\"padding:2px 4px\">\n",
      "<a href=\"/stations-meteo/image_mf.php?id=07156&amp;dh=2019-09-07 16:00:00&amp;token=7e4f2eb57a55f03ee18b623b385662db\" target=\"_blank\"><i class=\"material-icons\">add_circle_outline</i></a>\n",
      "</td>\n",
      "<td style=\"/*background-color:rgba(0,0,0,0.1)*/\"><span class=\"tipsy-trigger\" style=\"font-weight:bold;display:inline-block;font-size:16px\" title=\"&lt;div&gt;Minimale sur 1h : 17.7°C à 15:51 UTC&lt;/div&gt;&lt;div&gt;Maximale sur 1h : 18.3°C à 15:18 UTC&lt;/div&gt;\">17.8</span> <span class=\"tab-units-v\">°C</span><span class=\"color-heatmap\" style=\"background-color:rgb(255,202,36)\"></span> <div style=\"font-size:9px; margin-bottom: -8px\">\n",
      "<span style=\"color:#081dbb\">17.7</span> → <span style=\"color:#841910\">18.3</span>\n",
      "</div></td><td>0 <span class=\"tab-units-v\">mm/1h</span><span class=\"color-heatmap\" style=\"background-color:rgb(255,255,255)\"></span></td><td style=\"padding-left:20px; white-space: nowrap;\"><span style=\"font-weight:bold\">18</span> <span class=\"tab-units-v\">km/h</span><span class=\"color-heatmap\" style=\"background-color:rgb(128,255,64)\"></span><br/><span class=\"tipsy-trigger\" title=\"Rafale sur 10mn : 36km/h\"><span class=\"tab-units-v\">raf.</span><span style=\"font-weight:bold\">35.6</span></span> <div class=\"tipsy-trigger\" style=\"position: absolute; left:0px; top:50%; margin-top:-10px; height:20px; width:20px; background-image:url(//static.infoclimat.net/images/pictos_vent2/sprite.png); background-position: 240px 0px\" title=\"Vent de direction 350°\">\n",
      "</div></td><td><span style=\"font-weight:bold;display:inline-block\">51</span><span class=\"tab-units-v\">%</span><span class=\"color-heatmap\" style=\"background-color:rgb(154,235,172)\"></span></td><td style=\"/*background-color:rgba(0,0,0,0.1)*/\"><a class=\"tipsy-trigger button-rr-soleil\" href=\"javascript:void(0)\" title=\"Radiations Solaires mesurées (W/m²)\"><span class=\"\">192 </span></a></td><td><span style=\"font-weight:bold;display:inline-block\">7.5</span> <span class=\"tab-units-v\">°C</span><span class=\"color-heatmap\" style=\"background-color:rgb(104,254,57)\"></span></td><td style=\"/*background-color:rgba(0,0,0,0.1)*/\">1021.0<span class=\"tab-units-v\">hPa</span><span class=\"color-heatmap\" style=\"background-color:rgb(255,255,0)\"></span><br/><img alt=\"montee\" class=\"tipsy-trigger\" src=\"//static.infoclimat.net/images/v5.2/up.png\" style=\"height:12px\" title=\"+0.1 hPa/3h\"/></td><td>20 <span class=\"tab-units-v\">km</span></td> </tr>\n",
      "<tr>\n",
      "<!-- heure -->\n",
      "<th style=\"font-size:1.25em\">\n",
      "<span class=\"tipsy-trigger\" title=\"Heure réelle d'émission :&lt;br /&gt;07/09/2019&lt;br /&gt;&lt;b&gt;15h00 UTC&lt;/b&gt;\">17h</span> </th>\n",
      "<!-- plus -->\n",
      "<td style=\"padding:2px 4px\">\n",
      "<a href=\"/stations-meteo/image_mf.php?id=07156&amp;dh=2019-09-07 15:00:00&amp;token=b14e8fda7ea91ceee95e17909f93cef2\" target=\"_blank\"><i class=\"material-icons\">add_circle_outline</i></a>\n",
      "</td>\n",
      "<td style=\"/*background-color:rgba(0,0,0,0.1)*/\"><span class=\"tipsy-trigger\" style=\"font-weight:bold;display:inline-block;font-size:16px\" title=\"&lt;div&gt;Minimale sur 1h : 18.1°C à 14:16 UTC&lt;/div&gt;&lt;div&gt;Maximale sur 1h : 18.7°C à 14:38 UTC&lt;/div&gt;\">18.3</span> <span class=\"tab-units-v\">°C</span><span class=\"color-heatmap\" style=\"background-color:rgb(255,192,43)\"></span> <div style=\"font-size:9px; margin-bottom: -8px\">\n",
      "<span style=\"color:#081dbb\">18.1</span> → <span style=\"color:#841910\">18.7</span>\n",
      "</div></td><td>0 <span class=\"tab-units-v\">mm/1h</span><span class=\"color-heatmap\" style=\"background-color:rgb(255,255,255)\"></span><br/><a class=\"tipsy-trigger button-rr-pluvio\" href=\"javascript:void(0)\" style=\"opacity:0.3;\" title=\"&lt;table class='minitable-details' style='table-layout:fixed'&gt;&lt;tr&gt;&lt;td&gt;&lt;b&gt;Pluie/3h :&lt;/b&gt;&lt;/td&gt;&lt;td&gt;0mm&lt;/td&gt;&lt;/tr&gt;&lt;/table&gt;\"><span></span></a></td><td style=\"padding-left:20px; white-space: nowrap;\"><span style=\"font-weight:bold\">14</span> <span class=\"tab-units-v\">km/h</span><span class=\"color-heatmap\" style=\"background-color:rgb(128,255,64)\"></span><br/><span class=\"tipsy-trigger\" title=\"Rafale sur 10mn : 32.4km/h\"><span class=\"tab-units-v\">raf.</span><span style=\"font-weight:bold\">34.6</span></span> <div class=\"tipsy-trigger\" style=\"position: absolute; left:0px; top:50%; margin-top:-10px; height:20px; width:20px; background-image:url(//static.infoclimat.net/images/pictos_vent2/sprite.png); background-position: 240px 0px\" title=\"Vent de direction 360°\">\n",
      "</div></td><td><span style=\"font-weight:bold;display:inline-block\">49</span><span class=\"tab-units-v\">%</span><span class=\"color-heatmap\" style=\"background-color:rgb(161,238,172)\"></span></td><td style=\"/*background-color:rgba(0,0,0,0.1)*/\"><a class=\"tipsy-trigger button-rr-soleil\" href=\"javascript:void(0)\" title=\"Radiations Solaires mesurées (W/m²)\"><span class=\"\">311 </span></a></td><td><span style=\"font-weight:bold;display:inline-block\">7.4</span> <span class=\"tab-units-v\">°C</span><span class=\"color-heatmap\" style=\"background-color:rgb(100,253,54)\"></span></td><td style=\"/*background-color:rgba(0,0,0,0.1)*/\">1020.8<span class=\"tab-units-v\">hPa</span><span class=\"color-heatmap\" style=\"background-color:rgb(255,255,0)\"></span><br/><img alt=\"baisse\" class=\"tipsy-trigger\" src=\"//static.infoclimat.net/images/v5.2/down.png\" style=\"height:12px\" title=\"-0.1 hPa/3h\"/></td><td>20 <span class=\"tab-units-v\">km</span></td> </tr>\n",
      "<tr>\n",
      "<!-- heure -->\n",
      "<th style=\"font-size:1.25em\">\n",
      "<span class=\"tipsy-trigger\" title=\"Heure réelle d'émission :&lt;br /&gt;07/09/2019&lt;br /&gt;&lt;b&gt;14h00 UTC&lt;/b&gt;\">16h</span> </th>\n",
      "<!-- plus -->\n",
      "<td style=\"padding:2px 4px\">\n",
      "<a href=\"/stations-meteo/image_mf.php?id=07156&amp;dh=2019-09-07 14:00:00&amp;token=37ba7c943ee691b987a859e334926101\" target=\"_blank\"><i class=\"material-icons\">add_circle_outline</i></a>\n",
      "</td>\n",
      "<td style=\"/*background-color:rgba(0,0,0,0.1)*/\"><span class=\"tipsy-trigger\" style=\"font-weight:bold;display:inline-block;font-size:16px\" title=\"&lt;div&gt;Minimale sur 1h : 17.9°C à 13:28 UTC&lt;/div&gt;&lt;div&gt;Maximale sur 1h : 19°C à 13:38 UTC&lt;/div&gt;\">18.3</span> <span class=\"tab-units-v\">°C</span><span class=\"color-heatmap\" style=\"background-color:rgb(255,192,43)\"></span> <div style=\"font-size:9px; margin-bottom: -8px\">\n",
      "<span style=\"color:#081dbb\">17.9</span> → <span style=\"color:#841910\">19</span>\n",
      "</div></td><td>0 <span class=\"tab-units-v\">mm/1h</span><span class=\"color-heatmap\" style=\"background-color:rgb(255,255,255)\"></span></td><td style=\"padding-left:20px; white-space: nowrap;\"><span style=\"font-weight:bold\">18</span> <span class=\"tab-units-v\">km/h</span><span class=\"color-heatmap\" style=\"background-color:rgb(128,255,64)\"></span><br/><span class=\"tipsy-trigger\" title=\"Rafale sur 10mn : 36km/h\"><span class=\"tab-units-v\">raf.</span><span style=\"font-weight:bold\">36.4</span></span> <div class=\"tipsy-trigger\" style=\"position: absolute; left:0px; top:50%; margin-top:-10px; height:20px; width:20px; background-image:url(//static.infoclimat.net/images/pictos_vent2/sprite.png); background-position: -60px 0px\" title=\"Vent de direction 330°\">\n",
      "</div></td><td><span style=\"font-weight:bold;display:inline-block\">52</span><span class=\"tab-units-v\">%</span><span class=\"color-heatmap\" style=\"background-color:rgb(151,233,172)\"></span></td><td style=\"/*background-color:rgba(0,0,0,0.1)*/\"><a class=\"tipsy-trigger button-rr-soleil\" href=\"javascript:void(0)\" title=\"Radiations Solaires mesurées (W/m²)\"><span class=\"\">378 </span></a></td><td><span style=\"font-weight:bold;display:inline-block\">8.3</span> <span class=\"tab-units-v\">°C</span><span class=\"color-heatmap\" style=\"background-color:rgb(137,254,75)\"></span></td><td style=\"/*background-color:rgba(0,0,0,0.1)*/\">1020.7<span class=\"tab-units-v\">hPa</span><span class=\"color-heatmap\" style=\"background-color:rgb(255,255,0)\"></span><br/><img alt=\"baisse\" class=\"tipsy-trigger\" src=\"//static.infoclimat.net/images/v5.2/down.png\" style=\"height:12px\" title=\"-0.4 hPa/3h\"/></td><td>20 <span class=\"tab-units-v\">km</span></td> </tr>\n",
      "<tr>\n",
      "<!-- heure -->\n",
      "<th style=\"font-size:1.25em\">\n",
      "<span class=\"tipsy-trigger\" title=\"Heure réelle d'émission :&lt;br /&gt;07/09/2019&lt;br /&gt;&lt;b&gt;13h00 UTC&lt;/b&gt;\">15h</span> </th>\n",
      "<!-- plus -->\n",
      "<td style=\"padding:2px 4px\">\n",
      "<a href=\"/stations-meteo/image_mf.php?id=07156&amp;dh=2019-09-07 13:00:00&amp;token=9cec2615203a76fd0238e35eee148b72\" target=\"_blank\"><i class=\"material-icons\">add_circle_outline</i></a>\n",
      "</td>\n",
      "<td style=\"/*background-color:rgba(0,0,0,0.1)*/\"><span class=\"tipsy-trigger\" style=\"font-weight:bold;display:inline-block;font-size:16px\" title=\"&lt;div&gt;Minimale sur 1h : 18.2°C à 12:48 UTC&lt;/div&gt;&lt;div&gt;Maximale sur 1h : 19.9°C à 12:12 UTC&lt;/div&gt;\">18.7</span> <span class=\"tab-units-v\">°C</span><span class=\"color-heatmap\" style=\"background-color:rgb(255,185,48)\"></span> <div style=\"font-size:9px; margin-bottom: -8px\">\n",
      "<span style=\"color:#081dbb\">18.2</span> → <span style=\"color:#841910\">19.9</span>\n",
      "</div></td><td>0 <span class=\"tab-units-v\">mm/1h</span><span class=\"color-heatmap\" style=\"background-color:rgb(255,255,255)\"></span></td><td style=\"padding-left:20px; white-space: nowrap;\"><span style=\"font-weight:bold\">18</span> <span class=\"tab-units-v\">km/h</span><span class=\"color-heatmap\" style=\"background-color:rgb(128,255,64)\"></span><br/><span class=\"tipsy-trigger\" title=\"Rafale sur 10mn : 36km/h\"><span class=\"tab-units-v\">raf.</span><span style=\"font-weight:bold\">36</span></span> <div class=\"tipsy-trigger\" style=\"position: absolute; left:0px; top:50%; margin-top:-10px; height:20px; width:20px; background-image:url(//static.infoclimat.net/images/pictos_vent2/sprite.png); background-position: 240px 0px\" title=\"Vent de direction 360°\">\n",
      "</div></td><td><span style=\"font-weight:bold;display:inline-block\">46</span><span class=\"tab-units-v\">%</span><span class=\"color-heatmap\" style=\"background-color:rgb(168,241,175)\"></span></td><td style=\"/*background-color:rgba(0,0,0,0.1)*/\"><a class=\"tipsy-trigger button-rr-soleil\" href=\"javascript:void(0)\" title=\"Radiations Solaires mesurées (W/m²)\"><span class=\"\">594 </span></a></td><td><span style=\"font-weight:bold;display:inline-block\">6.8</span> <span class=\"tab-units-v\">°C</span><span class=\"color-heatmap\" style=\"background-color:rgb(75,253,41)\"></span></td><td style=\"/*background-color:rgba(0,0,0,0.1)*/\">1020.8<span class=\"tab-units-v\">hPa</span><span class=\"color-heatmap\" style=\"background-color:rgb(255,255,0)\"></span><br/><img alt=\"baisse\" class=\"tipsy-trigger\" src=\"//static.infoclimat.net/images/v5.2/down.png\" style=\"height:12px\" title=\"-0.3 hPa/3h\"/></td><td>20 <span class=\"tab-units-v\">km</span></td> </tr>\n",
      "<tr>\n",
      "<!-- heure -->\n",
      "<th style=\"font-size:1.25em\">\n",
      "<span class=\"tipsy-trigger\" title=\"Heure réelle d'émission :&lt;br /&gt;07/09/2019&lt;br /&gt;&lt;b&gt;12h00 UTC&lt;/b&gt;\">14h</span> </th>\n",
      "<!-- plus -->\n",
      "<td style=\"padding:2px 4px\">\n",
      "<a href=\"/stations-meteo/image_mf.php?id=07156&amp;dh=2019-09-07 12:00:00&amp;token=6fc7e0d44e844b5280e83fe561333d0d\" target=\"_blank\"><i class=\"material-icons\">add_circle_outline</i></a>\n",
      "</td>\n",
      "<td style=\"/*background-color:rgba(0,0,0,0.1)*/\"><span class=\"tipsy-trigger\" style=\"font-weight:bold;display:inline-block;font-size:16px\" title=\"&lt;div&gt;Minimale sur 1h : 17.5°C à 11:01 UTC&lt;/div&gt;&lt;div&gt;Maximale sur 1h : 19.5°C à 11:54 UTC&lt;/div&gt;\">19.2</span> <span class=\"tab-units-v\">°C</span><span class=\"color-heatmap\" style=\"background-color:rgb(255,175,55)\"></span> <div style=\"font-size:9px; margin-bottom: -8px\">\n",
      "<span style=\"color:#081dbb\">17.5</span> → <span style=\"color:#841910\">19.5</span>\n",
      "</div></td><td>0 <span class=\"tab-units-v\">mm/1h</span><span class=\"color-heatmap\" style=\"background-color:rgb(255,255,255)\"></span></td><td style=\"padding-left:20px; white-space: nowrap;\"><span style=\"font-weight:bold\">14</span> <span class=\"tab-units-v\">km/h</span><span class=\"color-heatmap\" style=\"background-color:rgb(128,255,64)\"></span><br/><span class=\"tipsy-trigger\" title=\"Rafale sur 10mn : 36km/h\"><span class=\"tab-units-v\">raf.</span><span style=\"font-weight:bold\">37.1</span></span> <div class=\"tipsy-trigger\" style=\"position: absolute; left:0px; top:50%; margin-top:-10px; height:20px; width:20px; background-image:url(//static.infoclimat.net/images/pictos_vent2/sprite.png); background-position: 240px 0px\" title=\"Vent de direction 360°\">\n",
      "</div></td><td><span style=\"font-weight:bold;display:inline-block\">45</span><span class=\"tab-units-v\">%</span><span class=\"color-heatmap\" style=\"background-color:rgb(171,242,176)\"></span></td><td style=\"/*background-color:rgba(0,0,0,0.1)*/\"><a class=\"tipsy-trigger button-rr-soleil\" href=\"javascript:void(0)\" title=\"Radiations Solaires mesurées (W/m²)\"><span class=\"\">481 </span></a></td><td><span style=\"font-weight:bold;display:inline-block\">7</span> <span class=\"tab-units-v\">°C</span><span class=\"color-heatmap\" style=\"background-color:rgb(83,253,45)\"></span></td><td style=\"/*background-color:rgba(0,0,0,0.1)*/\">1020.9<span class=\"tab-units-v\">hPa</span><span class=\"color-heatmap\" style=\"background-color:rgb(255,255,0)\"></span><br/><img alt=\"baisse\" class=\"tipsy-trigger\" src=\"//static.infoclimat.net/images/v5.2/down.png\" style=\"height:12px\" title=\"-0.3 hPa/3h\"/></td><td>20 <span class=\"tab-units-v\">km</span></td> </tr>\n",
      "<tr>\n",
      "<!-- heure -->\n",
      "<th style=\"font-size:1.25em\">\n",
      "<span class=\"tipsy-trigger\" title=\"Heure réelle d'émission :&lt;br /&gt;07/09/2019&lt;br /&gt;&lt;b&gt;11h00 UTC&lt;/b&gt;\">13h</span> </th>\n",
      "<!-- plus -->\n",
      "<td style=\"padding:2px 4px\">\n",
      "<a href=\"/stations-meteo/image_mf.php?id=07156&amp;dh=2019-09-07 11:00:00&amp;token=ca27cf830eaf1439c76dbeb2a76943c7\" target=\"_blank\"><i class=\"material-icons\">add_circle_outline</i></a>\n",
      "</td>\n",
      "<td style=\"/*background-color:rgba(0,0,0,0.1)*/\"><span class=\"tipsy-trigger\" style=\"font-weight:bold;display:inline-block;font-size:16px\" title=\"&lt;div&gt;Minimale sur 1h : 16.9°C à 10:12 UTC&lt;/div&gt;&lt;div&gt;Maximale sur 1h : 17.8°C à 10:01 UTC&lt;/div&gt;\">17.4</span> <span class=\"tab-units-v\">°C</span><span class=\"color-heatmap\" style=\"background-color:rgb(255,209,31)\"></span> <div style=\"font-size:9px; margin-bottom: -8px\">\n",
      "<span style=\"color:#081dbb\">16.9</span> → <span style=\"color:#841910\">17.8</span>\n",
      "</div></td><td><span class=\"tipsy-trigger\" title=\"Les précipitations ont duré 2 minutes.\">0 <span class=\"tab-units-v\">mm/1h</span></span><span class=\"color-heatmap\" style=\"background-color:rgb(255,255,255)\"></span></td><td style=\"padding-left:20px; white-space: nowrap;\"><span style=\"font-weight:bold\">14</span> <span class=\"tab-units-v\">km/h</span><br/><span class=\"tipsy-trigger\" title=\"Rafale sur 10mn : 28.8km/h\"><span class=\"tab-units-v\">raf.</span><span style=\"font-weight:bold\">27.4</span></span> <div class=\"tipsy-trigger\" style=\"position: absolute; left:0px; top:50%; margin-top:-10px; height:20px; width:20px; background-image:url(//static.infoclimat.net/images/pictos_vent2/sprite.png); background-position: 240px 0px\" title=\"Vent de direction 10°\">\n",
      "</div></td><td><span style=\"font-weight:bold;display:inline-block\">58</span><span class=\"tab-units-v\">%</span><span class=\"color-heatmap\" style=\"background-color:rgb(128,220,177)\"></span></td><td style=\"/*background-color:rgba(0,0,0,0.1)*/\"><a class=\"tipsy-trigger button-rr-soleil\" href=\"javascript:void(0)\" title=\"Radiations Solaires mesurées (W/m²)\"><span class=\"\">250 </span></a></td><td><span style=\"font-weight:bold;display:inline-block\">9</span> <span class=\"tab-units-v\">°C</span><span class=\"color-heatmap\" style=\"background-color:rgb(166,254,90)\"></span></td><td style=\"/*background-color:rgba(0,0,0,0.1)*/\">1021.2<span class=\"tab-units-v\">hPa</span><span class=\"color-heatmap\" style=\"background-color:rgb(255,255,0)\"></span><br/><img alt=\"montee\" class=\"tipsy-trigger\" src=\"//static.infoclimat.net/images/v5.2/up.png\" style=\"height:12px\" title=\"+0.1 hPa/3h\"/></td><td>20 <span class=\"tab-units-v\">km</span></td> </tr>\n",
      "<tr>\n",
      "<!-- heure -->\n",
      "<th style=\"font-size:1.25em\">\n",
      "<span class=\"tipsy-trigger\" title=\"Heure réelle d'émission :&lt;br /&gt;07/09/2019&lt;br /&gt;&lt;b&gt;10h00 UTC&lt;/b&gt;\">12h</span> </th>\n",
      "<!-- plus -->\n",
      "<td style=\"padding:2px 4px\">\n",
      "<a href=\"/stations-meteo/image_mf.php?id=07156&amp;dh=2019-09-07 10:00:00&amp;token=de926ee01007af691d725783ee3d7e94\" target=\"_blank\"><i class=\"material-icons\">add_circle_outline</i></a>\n",
      "</td>\n",
      "<td style=\"/*background-color:rgba(0,0,0,0.1)*/\"><span class=\"tipsy-trigger\" style=\"font-weight:bold;display:inline-block;font-size:16px\" title=\"&lt;div&gt;Minimale sur 1h : 16°C à 09:01 UTC&lt;/div&gt;&lt;div&gt;Maximale sur 1h : 18.4°C à 09:56 UTC&lt;/div&gt;\">17.8</span> <span class=\"tab-units-v\">°C</span><span class=\"color-heatmap\" style=\"background-color:rgb(255,202,36)\"></span> <div style=\"font-size:9px; margin-bottom: -8px\">\n",
      "<span style=\"color:#081dbb\">16</span> → <span style=\"color:#841910\">18.4</span>\n",
      "</div></td><td>0 <span class=\"tab-units-v\">mm/1h</span><span class=\"color-heatmap\" style=\"background-color:rgb(255,255,255)\"></span></td><td style=\"padding-left:20px; white-space: nowrap;\"><span style=\"font-weight:bold\">11</span> <span class=\"tab-units-v\">km/h</span><br/><span class=\"tipsy-trigger\" title=\"Rafale sur 10mn : 25.2km/h\"><span class=\"tab-units-v\">raf.</span><span style=\"font-weight:bold\">25.2</span></span> <div class=\"tipsy-trigger\" style=\"position: absolute; left:0px; top:50%; margin-top:-10px; height:20px; width:20px; background-image:url(//static.infoclimat.net/images/pictos_vent2/sprite.png); background-position: 220px 0px\" title=\"Vent de direction 20°\">\n",
      "</div></td><td><span style=\"font-weight:bold;display:inline-block\">66</span><span class=\"tab-units-v\">%</span><span class=\"color-heatmap\" style=\"background-color:rgb(99,204,182)\"></span></td><td style=\"/*background-color:rgba(0,0,0,0.1)*/\"><a class=\"tipsy-trigger button-rr-soleil\" href=\"javascript:void(0)\" title=\"Radiations Solaires mesurées (W/m²)\"><span class=\"\">508 </span></a></td><td><span style=\"font-weight:bold;display:inline-block\">11.4</span> <span class=\"tab-units-v\">°C</span><span class=\"color-heatmap\" style=\"background-color:rgb(221,255,81)\"></span></td><td style=\"/*background-color:rgba(0,0,0,0.1)*/\">1021.1<span class=\"tab-units-v\">hPa</span><span class=\"color-heatmap\" style=\"background-color:rgb(255,255,0)\"></span><br/><img alt=\"montee\" class=\"tipsy-trigger\" src=\"//static.infoclimat.net/images/v5.2/up.png\" style=\"height:12px\" title=\"+0.6 hPa/3h\"/></td><td>20 <span class=\"tab-units-v\">km</span></td> </tr>\n",
      "<tr>\n",
      "<!-- heure -->\n",
      "<th style=\"font-size:1.25em\">\n",
      "<span class=\"tipsy-trigger\" title=\"Heure réelle d'émission :&lt;br /&gt;07/09/2019&lt;br /&gt;&lt;b&gt;09h00 UTC&lt;/b&gt;\">11h</span> </th>\n",
      "<!-- plus -->\n",
      "<td style=\"padding:2px 4px\">\n",
      "<a href=\"/stations-meteo/image_mf.php?id=07156&amp;dh=2019-09-07 09:00:00&amp;token=4134c24109b8856511ece33c1fa58d78\" target=\"_blank\"><i class=\"material-icons\">add_circle_outline</i></a>\n",
      "</td>\n",
      "<td style=\"/*background-color:rgba(0,0,0,0.1)*/\"><span class=\"tipsy-trigger\" style=\"font-weight:bold;display:inline-block;font-size:16px\" title=\"&lt;div&gt;Minimale sur 1h : 15.6°C à 08:01 UTC&lt;/div&gt;&lt;div&gt;Maximale sur 1h : 16.4°C à 08:42 UTC&lt;/div&gt;\">16.0</span> <span class=\"tab-units-v\">°C</span><span class=\"color-heatmap\" style=\"background-color:rgb(255,236,13)\"></span> <div style=\"font-size:9px; margin-bottom: -8px\">\n",
      "<span style=\"color:#081dbb\">15.6</span> → <span style=\"color:#841910\">16.4</span>\n",
      "</div></td><td>0 <span class=\"tab-units-v\">mm/1h</span><span class=\"color-heatmap\" style=\"background-color:rgb(255,255,255)\"></span><br/><a class=\"tipsy-trigger button-rr-pluvio\" href=\"javascript:void(0)\" style=\"opacity:0.3;\" title=\"&lt;table class='minitable-details' style='table-layout:fixed'&gt;&lt;tr&gt;&lt;td&gt;&lt;b&gt;Pluie/3h :&lt;/b&gt;&lt;/td&gt;&lt;td&gt;0mm&lt;/td&gt;&lt;/tr&gt;&lt;/table&gt;\"><span></span></a></td><td style=\"padding-left:20px; white-space: nowrap;\"><span style=\"font-weight:bold\">11</span> <span class=\"tab-units-v\">km/h</span><br/><span class=\"tipsy-trigger\" title=\"Rafale sur 10mn : 21.6km/h\"><span class=\"tab-units-v\">raf.</span><span style=\"font-weight:bold\">24.1</span></span> <div class=\"tipsy-trigger\" style=\"position: absolute; left:0px; top:50%; margin-top:-10px; height:20px; width:20px; background-image:url(//static.infoclimat.net/images/pictos_vent2/sprite.png); background-position: -60px 0px\" title=\"Vent de direction 330°\">\n",
      "</div></td><td><span style=\"font-weight:bold;display:inline-block\">76</span><span class=\"tab-units-v\">%</span><span class=\"color-heatmap\" style=\"background-color:rgb(61,183,188)\"></span></td><td style=\"/*background-color:rgba(0,0,0,0.1)*/\"><a class=\"tipsy-trigger button-rr-soleil\" href=\"javascript:void(0)\" title=\"Radiations Solaires mesurées (W/m²)\"><span class=\"\">219 </span></a></td><td><span style=\"font-weight:bold;display:inline-block\">11.8</span> <span class=\"tab-units-v\">°C</span><span class=\"color-heatmap\" style=\"background-color:rgb(225,255,72)\"></span></td><td style=\"/*background-color:rgba(0,0,0,0.1)*/\">1021.3<span class=\"tab-units-v\">hPa</span><span class=\"color-heatmap\" style=\"background-color:rgb(255,255,0)\"></span><br/><img alt=\"montee\" class=\"tipsy-trigger\" src=\"//static.infoclimat.net/images/v5.2/up.png\" style=\"height:12px\" title=\"+0.8 hPa/3h\"/></td><td>20 <span class=\"tab-units-v\">km</span></td> </tr>\n",
      "<tr>\n",
      "<!-- heure -->\n",
      "<th style=\"font-size:1.25em\">\n",
      "<span class=\"tipsy-trigger\" title=\"Heure réelle d'émission :&lt;br /&gt;07/09/2019&lt;br /&gt;&lt;b&gt;08h00 UTC&lt;/b&gt;\">10h</span> </th>\n",
      "<!-- plus -->\n",
      "<td style=\"padding:2px 4px\">\n",
      "<a href=\"/stations-meteo/image_mf.php?id=07156&amp;dh=2019-09-07 08:00:00&amp;token=3f89b6b5ff5e9dfb32c2a5e70e020972\" target=\"_blank\"><i class=\"material-icons\">add_circle_outline</i></a>\n",
      "</td>\n",
      "<td style=\"/*background-color:rgba(0,0,0,0.1)*/\"><span class=\"tipsy-trigger\" style=\"font-weight:bold;display:inline-block;font-size:16px\" title=\"&lt;div&gt;Minimale sur 1h : 14.9°C à 07:01 UTC&lt;/div&gt;&lt;div&gt;Maximale sur 1h : 15.6°C à 07:59 UTC&lt;/div&gt;\">15.6</span> <span class=\"tab-units-v\">°C</span><span class=\"color-heatmap\" style=\"background-color:rgb(255,244,8)\"></span> <div style=\"font-size:9px; margin-bottom: -8px\">\n",
      "<span style=\"color:#081dbb\">14.9</span> → <span style=\"color:#841910\">15.6</span>\n",
      "</div></td><td>0 <span class=\"tab-units-v\">mm/1h</span><span class=\"color-heatmap\" style=\"background-color:rgb(255,255,255)\"></span></td><td style=\"padding-left:20px; white-space: nowrap;\"><span style=\"font-weight:bold\">7</span> <span class=\"tab-units-v\">km/h</span><br/><span class=\"tipsy-trigger\" title=\"Rafale sur 10mn : 18km/h\"><span class=\"tab-units-v\">raf.</span><span style=\"font-weight:bold\">22.7</span></span> <div class=\"tipsy-trigger\" style=\"position: absolute; left:0px; top:50%; margin-top:-10px; height:20px; width:20px; background-image:url(//static.infoclimat.net/images/pictos_vent2/sprite.png); background-position: -20px 0px\" title=\"Vent de direction 300°\">\n",
      "</div></td><td><span style=\"font-weight:bold;display:inline-block\">81</span><span class=\"tab-units-v\">%</span><span class=\"color-heatmap\" style=\"background-color:rgb(42,173,192)\"></span></td><td style=\"/*background-color:rgba(0,0,0,0.1)*/\"><a class=\"tipsy-trigger button-rr-soleil\" href=\"javascript:void(0)\" title=\"Radiations Solaires mesurées (W/m²)\"><span class=\"\">81 </span></a></td><td><span style=\"font-weight:bold;display:inline-block\">12.3</span> <span class=\"tab-units-v\">°C</span><span class=\"color-heatmap\" style=\"background-color:rgb(230,255,61)\"></span></td><td style=\"/*background-color:rgba(0,0,0,0.1)*/\">1021.1<span class=\"tab-units-v\">hPa</span><span class=\"color-heatmap\" style=\"background-color:rgb(255,255,0)\"></span><br/><img alt=\"montee\" class=\"tipsy-trigger\" src=\"//static.infoclimat.net/images/v5.2/up.png\" style=\"height:12px\" title=\"+0.8 hPa/3h\"/></td><td>20 <span class=\"tab-units-v\">km</span></td> </tr>\n",
      "<tr>\n",
      "<!-- heure -->\n",
      "<th style=\"font-size:1.25em\">\n",
      "<span class=\"tipsy-trigger\" title=\"Heure réelle d'émission :&lt;br /&gt;07/09/2019&lt;br /&gt;&lt;b&gt;07h00 UTC&lt;/b&gt;\">09h</span> </th>\n",
      "<!-- plus -->\n",
      "<td style=\"padding:2px 4px\">\n",
      "<a href=\"/stations-meteo/image_mf.php?id=07156&amp;dh=2019-09-07 07:00:00&amp;token=b55fa0ebf1a7dd16360463bca39e6b59\" target=\"_blank\"><i class=\"material-icons\">add_circle_outline</i></a>\n",
      "</td>\n",
      "<td style=\"/*background-color:rgba(0,0,0,0.1)*/\"><span class=\"tipsy-trigger\" style=\"font-weight:bold;display:inline-block;font-size:16px\" title=\"&lt;div&gt;Minimale sur 1h : 14.3°C à 06:01 UTC&lt;/div&gt;&lt;div&gt;Maximale sur 1h : 14.9°C à 07:00 UTC&lt;/div&gt;\">14.9</span> <span class=\"tab-units-v\">°C</span><span class=\"color-heatmap\" style=\"background-color:rgb(254,255,2)\"></span> <div style=\"font-size:9px; margin-bottom: -8px\">\n",
      "<span style=\"color:#081dbb\">14.3</span> → <span style=\"color:#841910\">14.9</span>\n",
      "</div></td><td>0 <span class=\"tab-units-v\">mm/1h</span><span class=\"color-heatmap\" style=\"background-color:rgb(255,255,255)\"></span></td><td style=\"padding-left:20px; white-space: nowrap;\"><span style=\"font-weight:bold\">7</span> <span class=\"tab-units-v\">km/h</span><br/><span class=\"tipsy-trigger\" title=\"Rafale sur 10mn : 18km/h\"><span class=\"tab-units-v\">raf.</span><span style=\"font-weight:bold\">24.5</span></span> <div class=\"tipsy-trigger\" style=\"position: absolute; left:0px; top:50%; margin-top:-10px; height:20px; width:20px; background-image:url(//static.infoclimat.net/images/pictos_vent2/sprite.png); background-position: -40px 0px\" title=\"Vent de direction 310°\">\n",
      "</div></td><td><span style=\"font-weight:bold;display:inline-block\">84</span><span class=\"tab-units-v\">%</span><span class=\"color-heatmap\" style=\"background-color:rgb(31,167,194)\"></span></td><td style=\"/*background-color:rgba(0,0,0,0.1)*/\"></td><td><span style=\"font-weight:bold;display:inline-block\">12.2</span> <span class=\"tab-units-v\">°C</span><span class=\"color-heatmap\" style=\"background-color:rgb(229,255,63)\"></span></td><td style=\"/*background-color:rgba(0,0,0,0.1)*/\">1020.6<span class=\"tab-units-v\">hPa</span><span class=\"color-heatmap\" style=\"background-color:rgb(255,255,0)\"></span><br/><img alt=\"montee\" class=\"tipsy-trigger\" src=\"//static.infoclimat.net/images/v5.2/up.png\" style=\"height:12px\" title=\"+0.2 hPa/3h\"/></td><td>20 <span class=\"tab-units-v\">km</span></td> </tr>\n",
      "<tr>\n",
      "<!-- heure -->\n",
      "<th style=\"font-size:1.25em\">\n",
      "<span class=\"tipsy-trigger\" title=\"Heure réelle d'émission :&lt;br /&gt;07/09/2019&lt;br /&gt;&lt;b&gt;06h00 UTC&lt;/b&gt;\">08h</span> </th>\n",
      "<!-- plus -->\n",
      "<td style=\"padding:2px 4px\">\n",
      "<a href=\"/stations-meteo/image_mf.php?id=07156&amp;dh=2019-09-07 06:00:00&amp;token=f7c582bef7c3bacf7176077d276cb2ba\" target=\"_blank\"><i class=\"material-icons\">add_circle_outline</i></a>\n",
      "</td>\n",
      "<td style=\"/*background-color:rgba(0,0,0,0.1)*/\"><span class=\"tipsy-trigger\" style=\"font-weight:bold;display:inline-block;font-size:16px\" title=\"&lt;div&gt;Minimale sur 1h : 14.1°C à 05:16 UTC&lt;/div&gt;&lt;div&gt;Maximale sur 1h : 14.3°C à 05:01 UTC&lt;/div&gt;\">14.3</span> <span class=\"tab-units-v\">°C</span><span class=\"color-heatmap\" style=\"background-color:rgb(248,255,16)\"></span> <div style=\"font-size:9px; margin-bottom: -8px\">\n",
      "<span style=\"color:#081dbb\">14.1</span> → <span style=\"color:#841910\">14.3</span>\n",
      "</div></td><td>0 <span class=\"tab-units-v\">mm/1h</span><span class=\"color-heatmap\" style=\"background-color:rgb(255,255,255)\"></span><br/><a class=\"tipsy-trigger button-rr-pluvio\" href=\"javascript:void(0)\" style=\"opacity:0.3;\" title=\"&lt;table class='minitable-details' style='table-layout:fixed'&gt;&lt;tr&gt;&lt;td&gt;&lt;b&gt;Pluie/3h :&lt;/b&gt;&lt;/td&gt;&lt;td&gt;0mm&lt;/td&gt;&lt;/tr&gt;&lt;tr&gt;&lt;td&gt;&lt;b&gt;Pluie/24h :&lt;/b&gt;&lt;/td&gt;&lt;td&gt;0mm&lt;/td&gt;&lt;/tr&gt;&lt;/table&gt;\"><span></span></a></td><td style=\"padding-left:20px; white-space: nowrap;\"><span style=\"font-weight:bold\">7</span> <span class=\"tab-units-v\">km/h</span><br/><span class=\"tipsy-trigger\" title=\"Rafale sur 10mn : 18km/h\"><span class=\"tab-units-v\">raf.</span><span style=\"font-weight:bold\">19.4</span></span> <div class=\"tipsy-trigger\" style=\"position: absolute; left:0px; top:50%; margin-top:-10px; height:20px; width:20px; background-image:url(//static.infoclimat.net/images/pictos_vent2/sprite.png); background-position: -20px 0px\" title=\"Vent de direction 300°\">\n",
      "</div></td><td><span style=\"font-weight:bold;display:inline-block\">86</span><span class=\"tab-units-v\">%</span><span class=\"color-heatmap\" style=\"background-color:rgb(24,163,195)\"></span></td><td style=\"/*background-color:rgba(0,0,0,0.1)*/\"><a class=\"tipsy-trigger button-rr-soleil\" href=\"javascript:void(0)\" title=\"Radiations Solaires mesurées (W/m²)\"><span class=\"\">3 </span></a></td><td><span style=\"font-weight:bold;display:inline-block\">12</span> <span class=\"tab-units-v\">°C</span><span class=\"color-heatmap\" style=\"background-color:rgb(227,255,68)\"></span></td><td style=\"/*background-color:rgba(0,0,0,0.1)*/\">1020.6<span class=\"tab-units-v\">hPa</span><span class=\"color-heatmap\" style=\"background-color:rgb(255,255,0)\"></span><br/><img alt=\"baisse\" class=\"tipsy-trigger\" src=\"//static.infoclimat.net/images/v5.2/down.png\" style=\"height:12px\" title=\"-0.2 hPa/3h\"/></td><td>20 <span class=\"tab-units-v\">km</span></td> </tr>\n",
      "<tr>\n",
      "<!-- heure -->\n",
      "<th style=\"font-size:1.25em\">\n",
      "<span class=\"tipsy-trigger\" title=\"Heure réelle d'émission :&lt;br /&gt;07/09/2019&lt;br /&gt;&lt;b&gt;05h00 UTC&lt;/b&gt;\">07h</span><img alt=\"lever du soleil\" class=\"tipsy-trigger\" src=\"//static.infoclimat.net/images/v5.2/lever.png\" style=\"position: absolute; right:1px; top:50%;\" title=\"Lever du soleil : 05h19 UTC\"/> </th>\n",
      "<!-- plus -->\n",
      "<td style=\"padding:2px 4px\">\n",
      "<a href=\"/stations-meteo/image_mf.php?id=07156&amp;dh=2019-09-07 05:00:00&amp;token=3e15fc64e08b0c6a8698052f4f0c864c\" target=\"_blank\"><i class=\"material-icons\">add_circle_outline</i></a>\n",
      "</td>\n",
      "<td style=\"/*background-color:rgba(0,0,0,0.1)*/\"><span class=\"tipsy-trigger\" style=\"font-weight:bold;display:inline-block;font-size:16px\" title=\"&lt;div&gt;Minimale sur 1h : 14.4°C à 04:57 UTC&lt;/div&gt;&lt;div&gt;Maximale sur 1h : 14.8°C à 04:01 UTC&lt;/div&gt;\">14.4</span> <span class=\"tab-units-v\">°C</span><span class=\"color-heatmap\" style=\"background-color:rgb(249,255,14)\"></span> <div style=\"font-size:9px; margin-bottom: -8px\">\n",
      "<span style=\"color:#081dbb\">14.4</span> → <span style=\"color:#841910\">14.8</span>\n",
      "</div></td><td>0 <span class=\"tab-units-v\">mm/1h</span><span class=\"color-heatmap\" style=\"background-color:rgb(255,255,255)\"></span></td><td style=\"padding-left:20px; white-space: nowrap;\"><span style=\"font-weight:bold\">7</span> <span class=\"tab-units-v\">km/h</span><br/><span class=\"tipsy-trigger\" title=\"Rafale sur 10mn : 14.4km/h\"><span class=\"tab-units-v\">raf.</span><span style=\"font-weight:bold\">24.1</span></span> <div class=\"tipsy-trigger\" style=\"position: absolute; left:0px; top:50%; margin-top:-10px; height:20px; width:20px; background-image:url(//static.infoclimat.net/images/pictos_vent2/sprite.png); background-position: 0px 0px\" title=\"Vent de direction 270°\">\n",
      "</div></td><td><span style=\"font-weight:bold;display:inline-block\">85</span><span class=\"tab-units-v\">%</span><span class=\"color-heatmap\" style=\"background-color:rgb(28,165,195)\"></span></td><td style=\"/*background-color:rgba(0,0,0,0.1)*/\"></td><td><span style=\"font-weight:bold;display:inline-block\">11.9</span> <span class=\"tab-units-v\">°C</span><span class=\"color-heatmap\" style=\"background-color:rgb(226,255,70)\"></span></td><td style=\"/*background-color:rgba(0,0,0,0.1)*/\">1020.3<span class=\"tab-units-v\">hPa</span><span class=\"color-heatmap\" style=\"background-color:rgb(246,255,25)\"></span><br/><img alt=\"baisse\" class=\"tipsy-trigger\" src=\"//static.infoclimat.net/images/v5.2/down.png\" style=\"height:12px\" title=\"-0.8 hPa/3h\"/></td><td>20 <span class=\"tab-units-v\">km</span></td> </tr>\n",
      "<tr>\n",
      "<!-- heure -->\n",
      "<th style=\"font-size:1.25em\">\n",
      "<span class=\"tipsy-trigger\" title=\"Heure réelle d'émission :&lt;br /&gt;07/09/2019&lt;br /&gt;&lt;b&gt;04h00 UTC&lt;/b&gt;\">06h</span> </th>\n",
      "<!-- plus -->\n",
      "<td style=\"padding:2px 4px\">\n",
      "<a href=\"/stations-meteo/image_mf.php?id=07156&amp;dh=2019-09-07 04:00:00&amp;token=a2421b38d5f4d03c5dede53ad7a0d07f\" target=\"_blank\"><i class=\"material-icons\">add_circle_outline</i></a>\n",
      "</td>\n",
      "<td style=\"/*background-color:rgba(0,0,0,0.1)*/\"><span class=\"tipsy-trigger\" style=\"font-weight:bold;display:inline-block;font-size:16px\" title=\"&lt;div&gt;Minimale sur 1h : 14.7°C à 03:01 UTC&lt;/div&gt;&lt;div&gt;Maximale sur 1h : 14.8°C à 03:20 UTC&lt;/div&gt;\">14.8</span> <span class=\"tab-units-v\">°C</span><span class=\"color-heatmap\" style=\"background-color:rgb(253,255,5)\"></span> <div style=\"font-size:9px; margin-bottom: -8px\">\n",
      "<span style=\"color:#081dbb\">14.7</span> → <span style=\"color:#841910\">14.8</span>\n",
      "</div></td><td>0 <span class=\"tab-units-v\">mm/1h</span><span class=\"color-heatmap\" style=\"background-color:rgb(255,255,255)\"></span></td><td style=\"padding-left:20px; white-space: nowrap;\"><span style=\"font-weight:bold\">7</span> <span class=\"tab-units-v\">km/h</span><br/><span class=\"tipsy-trigger\" title=\"Rafale sur 10mn : 21.6km/h\"><span class=\"tab-units-v\">raf.</span><span style=\"font-weight:bold\">26.3</span></span> <div class=\"tipsy-trigger\" style=\"position: absolute; left:0px; top:50%; margin-top:-10px; height:20px; width:20px; background-image:url(//static.infoclimat.net/images/pictos_vent2/sprite.png); background-position: 0px 0px\" title=\"Vent de direction 280°\">\n",
      "</div></td><td><span style=\"font-weight:bold;display:inline-block\">83</span><span class=\"tab-units-v\">%</span><span class=\"color-heatmap\" style=\"background-color:rgb(35,169,193)\"></span></td><td style=\"/*background-color:rgba(0,0,0,0.1)*/\"></td><td><span style=\"font-weight:bold;display:inline-block\">11.9</span> <span class=\"tab-units-v\">°C</span><span class=\"color-heatmap\" style=\"background-color:rgb(226,255,70)\"></span></td><td style=\"/*background-color:rgba(0,0,0,0.1)*/\">1020.4<span class=\"tab-units-v\">hPa</span><span class=\"color-heatmap\" style=\"background-color:rgb(246,255,25)\"></span><br/><img alt=\"baisse\" class=\"tipsy-trigger\" src=\"//static.infoclimat.net/images/v5.2/down.png\" style=\"height:12px\" title=\"-0.9 hPa/3h\"/></td><td>20 <span class=\"tab-units-v\">km</span></td> </tr>\n",
      "<tr>\n",
      "<!-- heure -->\n",
      "<th style=\"font-size:1.25em\">\n",
      "<span class=\"tipsy-trigger\" title=\"Heure réelle d'émission :&lt;br /&gt;07/09/2019&lt;br /&gt;&lt;b&gt;03h00 UTC&lt;/b&gt;\">05h</span> </th>\n",
      "<!-- plus -->\n",
      "<td style=\"padding:2px 4px\">\n",
      "<a href=\"/stations-meteo/image_mf.php?id=07156&amp;dh=2019-09-07 03:00:00&amp;token=1c322013039672851119ddf7c704a53e\" target=\"_blank\"><i class=\"material-icons\">add_circle_outline</i></a>\n",
      "</td>\n",
      "<td style=\"/*background-color:rgba(0,0,0,0.1)*/\"><span class=\"tipsy-trigger\" style=\"font-weight:bold;display:inline-block;font-size:16px\" title=\"&lt;div&gt;Minimale sur 1h : 14.6°C à 02:01 UTC&lt;/div&gt;&lt;div&gt;Maximale sur 1h : 14.7°C à 02:22 UTC&lt;/div&gt;\">14.7</span> <span class=\"tab-units-v\">°C</span><span class=\"color-heatmap\" style=\"background-color:rgb(252,255,7)\"></span> <div style=\"font-size:9px; margin-bottom: -8px\">\n",
      "<span style=\"color:#081dbb\">14.6</span> → <span style=\"color:#841910\">14.7</span>\n",
      "</div></td><td>0 <span class=\"tab-units-v\">mm/1h</span><span class=\"color-heatmap\" style=\"background-color:rgb(255,255,255)\"></span><br/><a class=\"tipsy-trigger button-rr-pluvio\" href=\"javascript:void(0)\" style=\"opacity:0.3;\" title=\"&lt;table class='minitable-details' style='table-layout:fixed'&gt;&lt;tr&gt;&lt;td&gt;&lt;b&gt;Pluie/3h :&lt;/b&gt;&lt;/td&gt;&lt;td&gt;0mm&lt;/td&gt;&lt;/tr&gt;&lt;/table&gt;\"><span></span></a></td><td style=\"padding-left:20px; white-space: nowrap;\"><span style=\"font-weight:bold\">11</span> <span class=\"tab-units-v\">km/h</span><br/><span class=\"tipsy-trigger\" title=\"Rafale sur 10mn : 21.6km/h\"><span class=\"tab-units-v\">raf.</span><span style=\"font-weight:bold\">21.2</span></span> <div class=\"tipsy-trigger\" style=\"position: absolute; left:0px; top:50%; margin-top:-10px; height:20px; width:20px; background-image:url(//static.infoclimat.net/images/pictos_vent2/sprite.png); background-position: 0px 0px\" title=\"Vent de direction 280°\">\n",
      "</div></td><td><span style=\"font-weight:bold;display:inline-block\">82</span><span class=\"tab-units-v\">%</span><span class=\"color-heatmap\" style=\"background-color:rgb(39,171,192)\"></span></td><td style=\"/*background-color:rgba(0,0,0,0.1)*/\"></td><td><span style=\"font-weight:bold;display:inline-block\">11.7</span> <span class=\"tab-units-v\">°C</span><span class=\"color-heatmap\" style=\"background-color:rgb(224,255,75)\"></span></td><td style=\"/*background-color:rgba(0,0,0,0.1)*/\">1020.7<span class=\"tab-units-v\">hPa</span><span class=\"color-heatmap\" style=\"background-color:rgb(255,255,0)\"></span><br/><img alt=\"baisse\" class=\"tipsy-trigger\" src=\"//static.infoclimat.net/images/v5.2/down.png\" style=\"height:12px\" title=\"-0.9 hPa/3h\"/></td><td>20 <span class=\"tab-units-v\">km</span></td> </tr>\n",
      "<tr>\n",
      "<!-- heure -->\n",
      "<th style=\"font-size:1.25em\">\n",
      "<span class=\"tipsy-trigger\" title=\"Heure réelle d'émission :&lt;br /&gt;07/09/2019&lt;br /&gt;&lt;b&gt;02h00 UTC&lt;/b&gt;\">04h</span> </th>\n",
      "<!-- plus -->\n",
      "<td style=\"padding:2px 4px\">\n",
      "<a href=\"/stations-meteo/image_mf.php?id=07156&amp;dh=2019-09-07 02:00:00&amp;token=50151a48d4e6482bff47d373bf4837c5\" target=\"_blank\"><i class=\"material-icons\">add_circle_outline</i></a>\n",
      "</td>\n",
      "<td style=\"/*background-color:rgba(0,0,0,0.1)*/\"><span class=\"tipsy-trigger\" style=\"font-weight:bold;display:inline-block;font-size:16px\" title=\"&lt;div&gt;Minimale sur 1h : 14.6°C à 01:47 UTC&lt;/div&gt;&lt;div&gt;Maximale sur 1h : 15°C à 01:01 UTC&lt;/div&gt;\">14.6</span> <span class=\"tab-units-v\">°C</span><span class=\"color-heatmap\" style=\"background-color:rgb(251,255,9)\"></span> <div style=\"font-size:9px; margin-bottom: -8px\">\n",
      "<span style=\"color:#081dbb\">14.6</span> → <span style=\"color:#841910\">15</span>\n",
      "</div></td><td>0 <span class=\"tab-units-v\">mm/1h</span><span class=\"color-heatmap\" style=\"background-color:rgb(255,255,255)\"></span></td><td style=\"padding-left:20px; white-space: nowrap;\"><span style=\"font-weight:bold\">11</span> <span class=\"tab-units-v\">km/h</span><br/><span class=\"tipsy-trigger\" title=\"Rafale sur 10mn : 18km/h\"><span class=\"tab-units-v\">raf.</span><span style=\"font-weight:bold\">21.6</span></span> <div class=\"tipsy-trigger\" style=\"position: absolute; left:0px; top:50%; margin-top:-10px; height:20px; width:20px; background-image:url(//static.infoclimat.net/images/pictos_vent2/sprite.png); background-position: 0px 0px\" title=\"Vent de direction 260°\">\n",
      "</div></td><td><span style=\"font-weight:bold;display:inline-block\">80</span><span class=\"tab-units-v\">%</span><span class=\"color-heatmap\" style=\"background-color:rgb(46,175,191)\"></span></td><td style=\"/*background-color:rgba(0,0,0,0.1)*/\"></td><td><span style=\"font-weight:bold;display:inline-block\">11.2</span> <span class=\"tab-units-v\">°C</span><span class=\"color-heatmap\" style=\"background-color:rgb(219,255,86)\"></span></td><td style=\"/*background-color:rgba(0,0,0,0.1)*/\">1021.2<span class=\"tab-units-v\">hPa</span><span class=\"color-heatmap\" style=\"background-color:rgb(255,255,0)\"></span><br/><img alt=\"baisse\" class=\"tipsy-trigger\" src=\"//static.infoclimat.net/images/v5.2/down.png\" style=\"height:12px\" title=\"-0.9 hPa/3h\"/></td><td>20 <span class=\"tab-units-v\">km</span></td> </tr>\n",
      "<tr>\n",
      "<!-- heure -->\n",
      "<th style=\"font-size:1.25em\">\n",
      "<span class=\"tipsy-trigger\" title=\"Heure réelle d'émission :&lt;br /&gt;07/09/2019&lt;br /&gt;&lt;b&gt;01h00 UTC&lt;/b&gt;\">03h</span> </th>\n",
      "<!-- plus -->\n",
      "<td style=\"padding:2px 4px\">\n",
      "<a href=\"/stations-meteo/image_mf.php?id=07156&amp;dh=2019-09-07 01:00:00&amp;token=559e02f3723d6a5ed4b57d2ab475f8f1\" target=\"_blank\"><i class=\"material-icons\">add_circle_outline</i></a>\n",
      "</td>\n",
      "<td style=\"/*background-color:rgba(0,0,0,0.1)*/\"><span class=\"tipsy-trigger\" style=\"font-weight:bold;display:inline-block;font-size:16px\" title=\"&lt;div&gt;Minimale sur 1h : 15°C à 00:53 UTC&lt;/div&gt;&lt;div&gt;Maximale sur 1h : 15.8°C à 00:01 UTC&lt;/div&gt;\">15.0</span> <span class=\"tab-units-v\">°C</span><span class=\"color-heatmap\" style=\"background-color:rgb(255,255,0)\"></span> <div style=\"font-size:9px; margin-bottom: -8px\">\n",
      "<span style=\"color:#081dbb\">15</span> → <span style=\"color:#841910\">15.8</span>\n",
      "</div></td><td>0 <span class=\"tab-units-v\">mm/1h</span><span class=\"color-heatmap\" style=\"background-color:rgb(255,255,255)\"></span></td><td style=\"padding-left:20px; white-space: nowrap;\"><span style=\"font-weight:bold\">11</span> <span class=\"tab-units-v\">km/h</span><br/><span class=\"tipsy-trigger\" title=\"Rafale sur 10mn : 25.2km/h\"><span class=\"tab-units-v\">raf.</span><span style=\"font-weight:bold\">26.6</span></span> <div class=\"tipsy-trigger\" style=\"position: absolute; left:0px; top:50%; margin-top:-10px; height:20px; width:20px; background-image:url(//static.infoclimat.net/images/pictos_vent2/sprite.png); background-position: 0px 0px\" title=\"Vent de direction 280°\">\n",
      "</div></td><td><span style=\"font-weight:bold;display:inline-block\">77</span><span class=\"tab-units-v\">%</span><span class=\"color-heatmap\" style=\"background-color:rgb(57,181,189)\"></span></td><td style=\"/*background-color:rgba(0,0,0,0.1)*/\"></td><td><span style=\"font-weight:bold;display:inline-block\">11</span> <span class=\"tab-units-v\">°C</span><span class=\"color-heatmap\" style=\"background-color:rgb(217,255,90)\"></span></td><td style=\"/*background-color:rgba(0,0,0,0.1)*/\">1021.3<span class=\"tab-units-v\">hPa</span><span class=\"color-heatmap\" style=\"background-color:rgb(255,255,0)\"></span><br/><img alt=\"baisse\" class=\"tipsy-trigger\" src=\"//static.infoclimat.net/images/v5.2/down.png\" style=\"height:12px\" title=\"-0.9 hPa/3h\"/></td><td>20 <span class=\"tab-units-v\">km</span></td> </tr>\n",
      "<tr>\n",
      "<!-- heure -->\n",
      "<th style=\"font-size:1.25em\">\n",
      "<span class=\"tipsy-trigger\" title=\"Heure réelle d'émission :&lt;br /&gt;07/09/2019&lt;br /&gt;&lt;b&gt;00h00 UTC&lt;/b&gt;\">02h</span> </th>\n",
      "<!-- plus -->\n",
      "<td style=\"padding:2px 4px\">\n",
      "<a href=\"/stations-meteo/image_mf.php?id=07156&amp;dh=2019-09-07 00:00:00&amp;token=924fbaf10a794e5cb4151878d478aa30\" target=\"_blank\"><i class=\"material-icons\">add_circle_outline</i></a>\n",
      "</td>\n",
      "<td style=\"/*background-color:rgba(0,0,0,0.1)*/\"><span class=\"tipsy-trigger\" style=\"font-weight:bold;display:inline-block;font-size:16px\" title=\"&lt;div&gt;Minimale sur 1h : 15.8°C à 00:00 UTC&lt;/div&gt;&lt;div&gt;Maximale sur 1h : 16.5°C à 23:01 UTC&lt;/div&gt;\">15.8</span> <span class=\"tab-units-v\">°C</span><span class=\"color-heatmap\" style=\"background-color:rgb(255,240,10)\"></span> <div style=\"font-size:9px; margin-bottom: -8px\">\n",
      "<span style=\"color:#081dbb\">15.8</span> → <span style=\"color:#841910\">16.5</span>\n",
      "</div></td><td>0 <span class=\"tab-units-v\">mm/1h</span><span class=\"color-heatmap\" style=\"background-color:rgb(255,255,255)\"></span><br/><a class=\"tipsy-trigger button-rr-pluvio\" href=\"javascript:void(0)\" style=\"opacity:0.3;\" title=\"&lt;table class='minitable-details' style='table-layout:fixed'&gt;&lt;tr&gt;&lt;td&gt;&lt;b&gt;Pluie/3h :&lt;/b&gt;&lt;/td&gt;&lt;td&gt;0mm&lt;/td&gt;&lt;/tr&gt;&lt;/table&gt;\"><span></span></a></td><td style=\"padding-left:20px; white-space: nowrap;\"><span style=\"font-weight:bold\">14</span> <span class=\"tab-units-v\">km/h</span><span class=\"color-heatmap\" style=\"background-color:rgb(128,255,64)\"></span><br/><span class=\"tipsy-trigger\" title=\"Rafale sur 10mn : 25.2km/h\"><span class=\"tab-units-v\">raf.</span><span style=\"font-weight:bold\">35.3</span></span> <div class=\"tipsy-trigger\" style=\"position: absolute; left:0px; top:50%; margin-top:-10px; height:20px; width:20px; background-image:url(//static.infoclimat.net/images/pictos_vent2/sprite.png); background-position: 0px 0px\" title=\"Vent de direction 270°\">\n",
      "</div></td><td><span style=\"font-weight:bold;display:inline-block\">69</span><span class=\"tab-units-v\">%</span><span class=\"color-heatmap\" style=\"background-color:rgb(88,198,183)\"></span></td><td style=\"/*background-color:rgba(0,0,0,0.1)*/\"></td><td><span style=\"font-weight:bold;display:inline-block\">10.1</span> <span class=\"tab-units-v\">°C</span><span class=\"color-heatmap\" style=\"background-color:rgb(209,255,111)\"></span></td><td style=\"/*background-color:rgba(0,0,0,0.1)*/\">1021.6<span class=\"tab-units-v\">hPa</span><span class=\"color-heatmap\" style=\"background-color:rgb(255,227,0)\"></span><br/><img alt=\"baisse\" class=\"tipsy-trigger\" src=\"//static.infoclimat.net/images/v5.2/down.png\" style=\"height:12px\" title=\"-1 hPa/3h\"/></td><td>20 <span class=\"tab-units-v\">km</span></td> </tr>\n",
      "</tbody>\n",
      "</table>, <table class=\"recap-clim-resp\">\n",
      "<!-- maximales -->\n",
      "<tr class=\"recap-clim-focus red lighten-4\">\n",
      "<td>\n",
      "<img src=\"//static.infoclimat.net/images/tx.png\"/>\n",
      "\t\t\t\t\tTempérature maximale\n",
      "\t\t\t\t\t\t\t\t\t\t\t\t<span class=\"recap-clim-comment\">provisoire 6h (J) à 06h UTC</span> </td>\n",
      "<td colspan=\"2\">\n",
      "<div style=\"float:right; margin-left:25px\"><!-- ecart normales -->\n",
      "<span class=\"recap-clim-norm-tag blue darken-3 white-text tipsy-trigger\" style=\"float:none; margin-left:0\" title=\"–1.2°C d'écart par rapport aux normales 1981-2010\">–1.2</span>\n",
      "</div>\n",
      "<div style=\"display:inline-block\">\n",
      "<b>19.9</b>°C\n",
      "\t\t\t\t\t\t\t\t\t\t\t</div>\n",
      "</td>\n",
      "</tr>\n",
      "<tr class=\"red lighten-5\">\n",
      "<td> </td>\n",
      "<td class=\"recap-clim-head\">record max.</td>\n",
      "<td class=\"recap-clim-head\">record min.</td>\n",
      "</tr>\n",
      "<!-- TX mensuel -->\n",
      "<tr class=\"red lighten-5\">\n",
      "<td class=\"recap-clim-light\">\n",
      "\t\t\t\t\tPrécédent record en septembre\t\t\t\t\t<a href=\"/climatologie/globale/mois-de-septembre/paris-montsouris/07156.html\" style=\"display:block\">\n",
      "<i class=\"material-icons\" style=\"margin-bottom:-3px; font-size:1.5em; vertical-align:bottom\">add_circle</i> de records\n",
      "\t\t\t\t\t</a>\n",
      "</td>\n",
      "<td>\n",
      "<span style=\"font-size:1.1em\">35.6°C</span><br/>\n",
      "<span class=\"recap-clim-date\">9/09/1911</span> </td>\n",
      "<td>\n",
      "<span style=\"font-size:1.1em\">9.9°C</span><br/>\n",
      "<span class=\"recap-clim-date\">28/09/1919</span> </td>\n",
      "</tr>\n",
      "<!--<tr class=\"red lighten-5\">\n",
      "\t\t\t\t<td class=\"recap-clim-light\">\n",
      "\t\t\t\t\tPrécédent record décadaire\n",
      "\t\t\t\t\t<br><b>BATTU</b>\n",
      "\t\t\t\t</td>\n",
      "\t\t\t\t<td>\n",
      "\t\t\t\t\t00°C<br>\n",
      "\t\t\t\t\t<span class=\"recap-clim-date\">00/00/0000</span>\n",
      "\t\t\t\t</td>\n",
      "\t\t\t\t<td>\n",
      "\t\t\t\t\t00°C<br>\n",
      "\t\t\t\t\t<span class=\"recap-clim-date\">00/00/0000</span>\n",
      "\t\t\t\t</td>\n",
      "\t\t\t</tr>-->\n",
      "<!-- minimales -->\n",
      "<tr class=\"recap-clim-focus blue lighten-4\">\n",
      "<td>\n",
      "<img src=\"//static.infoclimat.net/images/tn.png\"/>\n",
      "\t\t\t\t\tTempérature minimale\n",
      "\t\t\t\t\t\t\t\t\t\t\t\t<span class=\"recap-clim-comment\">provisoire 18h (J-1) à 18h UTC</span> </td>\n",
      "<td colspan=\"2\">\n",
      "<div style=\"float:right; margin-left:25px\"><!-- ecart normales -->\n",
      "<span class=\"recap-clim-norm-tag red darken-3 white-text tipsy-trigger\" style=\"float:none; margin-left:0\" title=\"+1.4°C d'écart par rapport aux normales 1981-2010\">+1.4</span>\n",
      "</div>\n",
      "<div style=\"display:inline-block\">\n",
      "<b>14.1</b>°C\n",
      "\t\t\t\t\t\t\t\t\t\t\t\t\t<span class=\"recap-clim-date\" style=\"display:block;\">à 05:16 UTC</span>\n",
      "</div>\n",
      "</td>\n",
      "</tr>\n",
      "<tr class=\"blue lighten-5\">\n",
      "<td> </td>\n",
      "<td class=\"recap-clim-head\">record min.</td>\n",
      "<td class=\"recap-clim-head\">record max.</td>\n",
      "</tr>\n",
      "<tr class=\"blue lighten-5\">\n",
      "<td class=\"recap-clim-light\">\n",
      "\t\t\t\t\tPrécédent record en septembre\t\t\t\t\t<a href=\"/climatologie/globale/mois-de-septembre/paris-montsouris/07156.html\" style=\"display:block\">\n",
      "<i class=\"material-icons\" style=\"margin-bottom:-3px; font-size:1.5em; vertical-align:bottom\">add_circle</i> de records\n",
      "\t\t\t\t\t</a>\n",
      "</td>\n",
      "<td>\n",
      "<span style=\"font-size:1.1em\">2.7°C</span><br/>\n",
      "<span class=\"recap-clim-date\">20/09/1952</span> </td>\n",
      "<td>\n",
      "<span style=\"font-size:1.1em\">21.9°C</span><br/>\n",
      "<span class=\"recap-clim-date\">13/09/2016</span> </td>\n",
      "</tr>\n",
      "<!-- rafales -->\n",
      "<tr class=\"recap-clim-focus lime lighten-4\">\n",
      "<td>\n",
      "<picture>\n",
      "<source srcset=\"//static.infoclimat.net/images/v5.2/rafales.webp\" type=\"image/webp\"/>\n",
      "<source srcset=\"//static.infoclimat.net/images/v5.2/rafales.png\" type=\"image/png\"/>\n",
      "<img src=\"//static.infoclimat.net/images/v5.2/rafales.png\"/>\n",
      "</picture>\n",
      "\n",
      "\t\t\t\t\tRafale maximale\n",
      "\t\t\t\t\t<span class=\"recap-clim-comment\">0h-0h UTC</span>\n",
      "</td>\n",
      "<td colspan=\"2\">\n",
      "<div style=\"display:inline-block\">\n",
      "<b>45.72</b>km/h\n",
      "\t\t\t\t\t</div>\n",
      "</td>\n",
      "</tr>\n",
      "<!-- ensoleillement -->\n",
      "<tr class=\"recap-clim-focus orange lighten-4\">\n",
      "<td>\n",
      "<picture>\n",
      "<source srcset=\"//static.infoclimat.net/images/v5.2/bg4/blank.webp\" type=\"image/webp\"/>\n",
      "<source srcset=\"//static.infoclimat.net/images/v5.2/bg4/blank.png\" type=\"image/png\"/>\n",
      "<img src=\"//static.infoclimat.net/images/v5.2/bg4/blank.png\"/>\n",
      "</picture>\n",
      "\n",
      "\t\t\t\t\tEnsoleillement\n",
      "\t\t\t\t\t\t\t\t\t\t<div class=\"progress\" style=\"border-box: box-sizing; width:5em; margin:0 auto; margin-top:4px\">\n",
      "<div class=\"determinate\" style=\"border-box: box-sizing; width: 25%;\"></div>\n",
      "</div>\n",
      "</td>\n",
      "<td colspan=\"2\">\n",
      "<div style=\"display:inline-block\">\n",
      "<b>3</b>h <b>12</b>min\t\t\t\t\t</div>\n",
      "</td>\n",
      "</tr>\n",
      "<!-- max RR sur 1h -->\n",
      "<tr class=\"recap-clim-focus teal lighten-4\">\n",
      "<td>\n",
      "<picture>\n",
      "<source srcset=\"//static.infoclimat.net/images/v5.2/bg4/pluie-forte.webp\" type=\"image/webp\"/>\n",
      "<source srcset=\"//static.infoclimat.net/images/v5.2/bg4/pluie-forte.png\" type=\"image/png\"/>\n",
      "<img src=\"//static.infoclimat.net/images/v5.2/bg4/pluie-forte.png\"/>\n",
      "</picture>\n",
      "\n",
      "\t\t\t\t\tCumul maxi en 1h\n",
      "\t\t\t\t\t<span class=\"recap-clim-comment\">0h-0h UTC</span>\n",
      "</td>\n",
      "<td colspan=\"2\">\n",
      "<div style=\"display:inline-block\">\n",
      "<b>0</b>mm\n",
      "\t\t\t\t\t</div>\n",
      "</td>\n",
      "</tr>\n",
      "<!-- RR total OMM jusque 6Z -->\n",
      "<tr class=\"recap-clim-focus teal lighten-5\">\n",
      "<td>\n",
      "<picture>\n",
      "<source srcset=\"//static.infoclimat.net/images/v5.2/bg4/pluie-forte.webp\" type=\"image/webp\"/>\n",
      "<source srcset=\"//static.infoclimat.net/images/v5.2/bg4/pluie-forte.png\" type=\"image/png\"/>\n",
      "<img src=\"//static.infoclimat.net/images/v5.2/bg4/pluie-forte.png\"/>\n",
      "</picture>\n",
      "\n",
      "\t\t\t\t\tCumul du jour \n",
      "\t\t\t\t\t<span class=\"recap-clim-comment\">\n",
      "\t\t\t\t\t\t6h à 6h(J+1)\n",
      "\t\t\t\t\t\t\t\t\t\t\t</span>\n",
      "</td>\n",
      "<td colspan=\"2\">\n",
      "<div style=\"display:inline-block\">\n",
      "<b>0</b>mm\t\t\t\t\t</div>\n",
      "</td>\n",
      "</tr>\n",
      "<!-- RR total 24h glissantes -->\n",
      "<!-- RR total 24h glissantes -->\n",
      "<tr class=\"recap-clim-focus green lighten-4\">\n",
      "<td>\n",
      "\t\t\t\t\tDegrés Jour Unifiés (DJU)\n",
      "\t\t\t\t\t<span class=\"recap-clim-comment tipsy-trigger\" title=\"Vous pouvez changer la base de calcul des DJU en bas de page.\"><a href=\"https://fr.wikipedia.org/wiki/Degr%C3%A9_jour_unifi%C3%A9\">méthode \"professionnels de l'énergie\"</a>, base 18</span>\n",
      "</td>\n",
      "<td colspan=\"2\">\n",
      "<div style=\"display:inline-block\">\n",
      "<b>1.4</b> chauffe<span class=\"hide-on-small-only\"> (DJC)</span><br/>\n",
      "<b>0.4</b> froid<span class=\"hide-on-small-only\"> (DJF)</span>\n",
      "</div>\n",
      "</td>\n",
      "</tr>\n",
      "</table>]\n",
      "4\n"
     ]
    }
   ],
   "source": [
    "page = requests.get(\"https://www.infoclimat.fr/observations-meteo/archives/7/septembre/2019/paris-montsouris/07156.html\")\n",
    "soup = BeautifulSoup(page.content, \"html.parser\")\n",
    "\n",
    "tables = soup.findAll(\"table\")\n",
    "print(tables)\n",
    "print(len(tables))"
   ]
  },
  {
   "cell_type": "code",
   "execution_count": 69,
   "metadata": {},
   "outputs": [
    {
     "name": "stdout",
     "output_type": "stream",
     "text": [
      "Heure locale             int64\n",
      "Température (°C)       float64\n",
      "Pluie (mm/h)             int64\n",
      "Vent (km/h)              int64\n",
      "Rafales (km/h)         float64\n",
      "Humidité (%)             int64\n",
      "Bio-météo              float64\n",
      "Point de rosée (°C)    float64\n",
      "Pression (hPa)         float64\n",
      "Visibilité (km)          int64\n",
      "dtype: object\n"
     ]
    },
    {
     "data": {
      "text/html": [
       "<div>\n",
       "<style scoped>\n",
       "    .dataframe tbody tr th:only-of-type {\n",
       "        vertical-align: middle;\n",
       "    }\n",
       "\n",
       "    .dataframe tbody tr th {\n",
       "        vertical-align: top;\n",
       "    }\n",
       "\n",
       "    .dataframe thead th {\n",
       "        text-align: right;\n",
       "    }\n",
       "</style>\n",
       "<table border=\"1\" class=\"dataframe\">\n",
       "  <thead>\n",
       "    <tr style=\"text-align: right;\">\n",
       "      <th></th>\n",
       "      <th>Heure locale</th>\n",
       "      <th>Température (°C)</th>\n",
       "      <th>Pluie (mm/h)</th>\n",
       "      <th>Vent (km/h)</th>\n",
       "      <th>Rafales (km/h)</th>\n",
       "      <th>Humidité (%)</th>\n",
       "      <th>Bio-météo</th>\n",
       "      <th>Point de rosée (°C)</th>\n",
       "      <th>Pression (hPa)</th>\n",
       "      <th>Visibilité (km)</th>\n",
       "    </tr>\n",
       "  </thead>\n",
       "  <tbody>\n",
       "    <tr>\n",
       "      <th>1</th>\n",
       "      <td>0</td>\n",
       "      <td>14.3</td>\n",
       "      <td>0</td>\n",
       "      <td>18</td>\n",
       "      <td>37.8</td>\n",
       "      <td>73</td>\n",
       "      <td>NaN</td>\n",
       "      <td>9.5</td>\n",
       "      <td>1023.2</td>\n",
       "      <td>20</td>\n",
       "    </tr>\n",
       "    <tr>\n",
       "      <th>0</th>\n",
       "      <td>1</td>\n",
       "      <td>13.9</td>\n",
       "      <td>0</td>\n",
       "      <td>14</td>\n",
       "      <td>32.4</td>\n",
       "      <td>76</td>\n",
       "      <td>NaN</td>\n",
       "      <td>9.7</td>\n",
       "      <td>1023.0</td>\n",
       "      <td>20</td>\n",
       "    </tr>\n",
       "    <tr>\n",
       "      <th>23</th>\n",
       "      <td>2</td>\n",
       "      <td>15.8</td>\n",
       "      <td>0</td>\n",
       "      <td>14</td>\n",
       "      <td>35.3</td>\n",
       "      <td>69</td>\n",
       "      <td>NaN</td>\n",
       "      <td>10.1</td>\n",
       "      <td>1021.6</td>\n",
       "      <td>20</td>\n",
       "    </tr>\n",
       "    <tr>\n",
       "      <th>22</th>\n",
       "      <td>3</td>\n",
       "      <td>15.0</td>\n",
       "      <td>0</td>\n",
       "      <td>11</td>\n",
       "      <td>26.6</td>\n",
       "      <td>77</td>\n",
       "      <td>NaN</td>\n",
       "      <td>11.0</td>\n",
       "      <td>1021.3</td>\n",
       "      <td>20</td>\n",
       "    </tr>\n",
       "    <tr>\n",
       "      <th>21</th>\n",
       "      <td>4</td>\n",
       "      <td>14.6</td>\n",
       "      <td>0</td>\n",
       "      <td>11</td>\n",
       "      <td>21.6</td>\n",
       "      <td>80</td>\n",
       "      <td>NaN</td>\n",
       "      <td>11.2</td>\n",
       "      <td>1021.2</td>\n",
       "      <td>20</td>\n",
       "    </tr>\n",
       "  </tbody>\n",
       "</table>\n",
       "</div>"
      ],
      "text/plain": [
       "    Heure locale  Température (°C)  Pluie (mm/h)  Vent (km/h)  Rafales (km/h)  \\\n",
       "1              0              14.3             0           18            37.8   \n",
       "0              1              13.9             0           14            32.4   \n",
       "23             2              15.8             0           14            35.3   \n",
       "22             3              15.0             0           11            26.6   \n",
       "21             4              14.6             0           11            21.6   \n",
       "\n",
       "    Humidité (%)  Bio-météo  Point de rosée (°C)  Pression (hPa)  \\\n",
       "1             73        NaN                  9.5          1023.2   \n",
       "0             76        NaN                  9.7          1023.0   \n",
       "23            69        NaN                 10.1          1021.6   \n",
       "22            77        NaN                 11.0          1021.3   \n",
       "21            80        NaN                 11.2          1021.2   \n",
       "\n",
       "    Visibilité (km)  \n",
       "1                20  \n",
       "0                20  \n",
       "23               20  \n",
       "22               20  \n",
       "21               20  "
      ]
     },
     "execution_count": 69,
     "metadata": {},
     "output_type": "execute_result"
    }
   ],
   "source": [
    "def tableDataText(table):       \n",
    "    rows = []\n",
    "    trs = table.find_all('tr')\n",
    "    headerow = [td.get_text(strip=True) for td in trs[0].find_all('th')] # header row\n",
    "\n",
    "    for tr in trs: # for every table row\n",
    "        currentRow = [td.get_text(strip=True) for td in tr.find_all('th')]\n",
    "        currentRow.extend([td.get_text(strip=True) for td in tr.find_all('td')])\n",
    "        rows.append(currentRow) # data row\n",
    "    return rows\n",
    "\n",
    "data = tableDataText(tables[2])\n",
    "\n",
    "df = pd.DataFrame(data[1:], columns=data[0])\n",
    "df.drop(df.columns[1], axis=1, inplace=True)\n",
    "rename_dict = {'Température':'Température (°C)', 'Pluie':'Pluie (mm/h)', 'Vent':'Vent (km/h)', 'Humidité':'Humidité (%)', 'Pression':'Pression (hPa)', 'Visibilité':'Visibilité (km)'}\n",
    "df.rename(columns=rename_dict, inplace=True)\n",
    "df.rename(columns={df.columns[6]:\"Point de rosée (°C)\"}, inplace=True)\n",
    "\n",
    "df[\"Heure locale\"] = pd.to_numeric(df[\"Heure locale\"].str.replace(\"h\", \"\"))\n",
    "df[\"Température (°C)\"] = pd.to_numeric(df[\"Température (°C)\"].str.split(\"°\").str[0])\n",
    "df[\"Pluie (mm/h)\"] = pd.to_numeric(df[\"Pluie (mm/h)\"].str.split(\"m\").str[0])\n",
    "df[\"Humidité (%)\"] = pd.to_numeric(df[\"Humidité (%)\"].str.split(\"%\").str[0])\n",
    "df[\"Bio-météo\"] = pd.to_numeric(df[\"Bio-météo\"])\n",
    "df[\"Point de rosée (°C)\"] = pd.to_numeric(df[\"Point de rosée (°C)\"].str.split(\"°\").str[0])\n",
    "df[\"Pression (hPa)\"] = pd.to_numeric(df[\"Pression (hPa)\"].str.split(\"hPa\").str[0])\n",
    "df[\"Visibilité (km)\"] = pd.to_numeric(df[\"Visibilité (km)\"].str.split(\"km\").str[0])\n",
    "\n",
    "new = df[\"Vent (km/h)\"].str.split(\"km/hraf.\", n = 1, expand = True)\n",
    "df.insert(4, \"Rafales (km/h)\", pd.to_numeric(new[1]))\n",
    "df[\"Vent (km/h)\"] = pd.to_numeric(new[0])\n",
    "\n",
    "print(df.dtypes)\n",
    "\n",
    "idx = df.index.tolist()\n",
    "df = df.reindex(idx[2:] + idx[:2])\n",
    "df = df.iloc[::-1]\n",
    "df.reset_index()\n",
    "df.head()"
   ]
  },
  {
   "cell_type": "markdown",
   "metadata": {},
   "source": [
    "## 2. Explore the data using visualization libraries. Interpret and conclude."
   ]
  },
  {
   "cell_type": "code",
   "execution_count": 70,
   "metadata": {},
   "outputs": [
    {
     "data": {
      "image/png": "[encoded data removed]",
      "text/plain": [
       "<Figure size 1080x576 with 2 Axes>"
      ]
     },
     "metadata": {
      "needs_background": "light"
     },
     "output_type": "display_data"
    }
   ],
   "source": [
    "fig, ax1 = plt.subplots(figsize=(15, 8))\n",
    "\n",
    "ax2 = ax1.twinx()\n",
    "\n",
    "ax1.set_xlim(-0.5, 23.5)\n",
    "ax1.set_ylim(-10, 30)\n",
    "ax2.set_ylim(0, 100)\n",
    "\n",
    "ax1.set_xlabel(\"Heure locale\")\n",
    "ax1.set_ylabel(\"°C\", color=\"red\", fontsize=15, fontweight=\"bold\", rotation=0)\n",
    "ax2.set_ylabel(\"km/h\", color=\"blue\", fontsize=15, fontweight=\"bold\", rotation=0)\n",
    "\n",
    "ax1.set_xticks(range(24))\n",
    "ax1.tick_params(axis='y', labelcolor=\"red\")\n",
    "ax2.tick_params(axis='y', labelcolor=\"blue\")\n",
    "\n",
    "\n",
    "ax1.plot(df[\"Heure locale\"], df[\"Température (°C)\"], color=\"red\")\n",
    "ax1.plot(df[\"Heure locale\"], df[\"Point de rosée (°C)\"], color=\"orange\")\n",
    "ax2.plot(df[\"Heure locale\"], df[\"Vent (km/h)\"], color=\"blue\")\n",
    "ax2.plot(df[\"Heure locale\"], df[\"Rafales (km/h)\"], color=\"green\")\n",
    "\n",
    "\n",
    "ax1.legend([\"Température\", \"Points de rosée\"], loc=\"upper left\", fontsize=15)\n",
    "ax2.legend([\"Vent\", \"Rafales\"], loc=\"upper right\", fontsize=15)\n",
    "\n",
    "ax1.set_title(\"Données météorologiques\", fontsize=18, fontweight=\"bold\")\n",
    "fig.tight_layout()\n",
    "plt.show()"
   ]
  }
 ],
 "metadata": {
  "interpreter": {
   "hash": "cd44577227b4500bd45e9a7c8de683b29d60be5d3ae7bf5644af1d5da89d3012"
  },
  "kernelspec": {
   "display_name": "Python 3.8.8 64-bit ('base': conda)",
   "name": "python3"
  },
  "language_info": {
   "codemirror_mode": {
    "name": "ipython",
    "version": 3
   },
   "file_extension": ".py",
   "mimetype": "text/x-python",
   "name": "python",
   "nbconvert_exporter": "python",
   "pygments_lexer": "ipython3",
   "version": "3.8.8"
  },
  "orig_nbformat": 4
 },
 "nbformat": 4,
 "nbformat_minor": 2
}
